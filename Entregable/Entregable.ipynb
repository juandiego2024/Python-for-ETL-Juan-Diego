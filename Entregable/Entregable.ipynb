{
 "cells": [
  {
   "cell_type": "markdown",
   "metadata": {},
   "source": [
    "NOMBRE: JUAN DIEGO RAMIREZ MARCHAN\n",
    "ENTREGABLE 01"
   ]
  },
  {
   "cell_type": "code",
   "execution_count": 151,
   "metadata": {},
   "outputs": [],
   "source": [
    "import polars as pl\n",
    "import xlsx2csv"
   ]
  },
  {
   "cell_type": "markdown",
   "metadata": {},
   "source": [
    "TRANSFORMACIONES"
   ]
  },
  {
   "cell_type": "markdown",
   "metadata": {},
   "source": [
    "**BASE TICKETS**"
   ]
  },
  {
   "cell_type": "code",
   "execution_count": 152,
   "metadata": {},
   "outputs": [],
   "source": [
    "#Leyendo datos de tickets histórico\n",
    "tickets_his = pl.read_csv(\n",
    "    source='C:\\ETL\\Gestion_Atenciones\\Materiales\\Tickets\\Tickets Historico.txt',\n",
    "    separator=';',\n",
    "    columns=['Numero Ticket', 'Ubicacion', 'Service Desk', 'Estado', 'Fecha Creacion', 'Fecha Termino', 'Fecha Cierre'],\n",
    "    try_parse_dates=True,\n",
    "    ignore_errors=True\n",
    ").rename({'Numero Ticket':'TicketID'})"
   ]
  },
  {
   "cell_type": "code",
   "execution_count": 153,
   "metadata": {},
   "outputs": [
    {
     "data": {
      "text/html": [
       "<div><style>\n",
       ".dataframe > thead > tr,\n",
       ".dataframe > tbody > tr {\n",
       "  text-align: right;\n",
       "  white-space: pre-wrap;\n",
       "}\n",
       "</style>\n",
       "<small>shape: (5, 7)</small><table border=\"1\" class=\"dataframe\"><thead><tr><th>TicketID</th><th>Ubicacion</th><th>Service Desk</th><th>Estado</th><th>Fecha Creacion</th><th>Fecha Termino</th><th>Fecha Cierre</th></tr><tr><td>str</td><td>str</td><td>str</td><td>str</td><td>date</td><td>date</td><td>date</td></tr></thead><tbody><tr><td>&quot;WO000000412268…</td><td>&quot;AREQUIPA - 215…</td><td>&quot;Zona Norte&quot;</td><td>&quot;Cerrado&quot;</td><td>2022-06-01</td><td>2022-06-14</td><td>2022-06-14</td></tr><tr><td>&quot;WO000000412264…</td><td>&quot;METRO AV. WIES…</td><td>&quot;Zona Centro&quot;</td><td>&quot;Cerrado&quot;</td><td>2022-06-01</td><td>2022-06-17</td><td>2022-06-17</td></tr><tr><td>&quot;WO000000412250…</td><td>&quot;NICOLAS AYLLON…</td><td>&quot;Zona Centro&quot;</td><td>&quot;Cerrado&quot;</td><td>2022-06-01</td><td>2022-06-08</td><td>2022-06-08</td></tr><tr><td>&quot;WO000000412251…</td><td>&quot;JAUREGUI - 405…</td><td>&quot;Zona Norte&quot;</td><td>&quot;Cerrado&quot;</td><td>2022-06-01</td><td>2022-06-18</td><td>2022-06-18</td></tr><tr><td>&quot;WO000000412274…</td><td>&quot;CANTO GRANDE -…</td><td>&quot;Zona Centro&quot;</td><td>&quot;Cerrado&quot;</td><td>2022-06-01</td><td>2022-06-08</td><td>2022-06-08</td></tr></tbody></table></div>"
      ],
      "text/plain": [
       "shape: (5, 7)\n",
       "┌──────────────┬──────────────┬──────────────┬─────────┬──────────────┬──────────────┬─────────────┐\n",
       "│ TicketID     ┆ Ubicacion    ┆ Service Desk ┆ Estado  ┆ Fecha        ┆ Fecha        ┆ Fecha       │\n",
       "│ ---          ┆ ---          ┆ ---          ┆ ---     ┆ Creacion     ┆ Termino      ┆ Cierre      │\n",
       "│ str          ┆ str          ┆ str          ┆ str     ┆ ---          ┆ ---          ┆ ---         │\n",
       "│              ┆              ┆              ┆         ┆ date         ┆ date         ┆ date        │\n",
       "╞══════════════╪══════════════╪══════════════╪═════════╪══════════════╪══════════════╪═════════════╡\n",
       "│ WO0000004122 ┆ AREQUIPA -   ┆ Zona Norte   ┆ Cerrado ┆ 2022-06-01   ┆ 2022-06-14   ┆ 2022-06-14  │\n",
       "│ 687          ┆ 215000       ┆              ┆         ┆              ┆              ┆             │\n",
       "│ WO0000004122 ┆ METRO AV.    ┆ Zona Centro  ┆ Cerrado ┆ 2022-06-01   ┆ 2022-06-17   ┆ 2022-06-17  │\n",
       "│ 649          ┆ WIESSE -     ┆              ┆         ┆              ┆              ┆             │\n",
       "│              ┆ 191106       ┆              ┆         ┆              ┆              ┆             │\n",
       "│ WO0000004122 ┆ NICOLAS      ┆ Zona Centro  ┆ Cerrado ┆ 2022-06-01   ┆ 2022-06-08   ┆ 2022-06-08  │\n",
       "│ 502          ┆ AYLLON -     ┆              ┆         ┆              ┆              ┆             │\n",
       "│              ┆ 191027       ┆              ┆         ┆              ┆              ┆             │\n",
       "│ WO0000004122 ┆ JAUREGUI -   ┆ Zona Norte   ┆ Cerrado ┆ 2022-06-01   ┆ 2022-06-18   ┆ 2022-06-18  │\n",
       "│ 513          ┆ 405005       ┆              ┆         ┆              ┆              ┆             │\n",
       "│ WO0000004122 ┆ CANTO GRANDE ┆ Zona Centro  ┆ Cerrado ┆ 2022-06-01   ┆ 2022-06-08   ┆ 2022-06-08  │\n",
       "│ 741          ┆ - 191096     ┆              ┆         ┆              ┆              ┆             │\n",
       "└──────────────┴──────────────┴──────────────┴─────────┴──────────────┴──────────────┴─────────────┘"
      ]
     },
     "execution_count": 153,
     "metadata": {},
     "output_type": "execute_result"
    }
   ],
   "source": [
    "tickets_his.head(5)"
   ]
  },
  {
   "cell_type": "code",
   "execution_count": 154,
   "metadata": {},
   "outputs": [],
   "source": [
    "#Leyendo datos de tickets Actual y renombrando columna numero ticket\n",
    "tickets_act = pl.read_csv(\n",
    "    source='C:\\ETL\\Gestion_Atenciones\\Materiales\\Tickets\\Tickets Actual.csv',\n",
    "    separator='|',\n",
    "    columns=['Numero Ticket', 'Ubicacion', 'Service Desk', 'Estado', 'Fecha Creacion', 'Fecha Termino', 'Fecha Cierre'],\n",
    ").rename({'Numero Ticket':'TicketID'})\n",
    "\n"
   ]
  },
  {
   "cell_type": "code",
   "execution_count": 155,
   "metadata": {},
   "outputs": [
    {
     "data": {
      "text/html": [
       "<div><style>\n",
       ".dataframe > thead > tr,\n",
       ".dataframe > tbody > tr {\n",
       "  text-align: right;\n",
       "  white-space: pre-wrap;\n",
       "}\n",
       "</style>\n",
       "<small>shape: (5, 7)</small><table border=\"1\" class=\"dataframe\"><thead><tr><th>TicketID</th><th>Ubicacion</th><th>Service Desk</th><th>Estado</th><th>Fecha Creacion</th><th>Fecha Termino</th><th>Fecha Cierre</th></tr><tr><td>str</td><td>str</td><td>str</td><td>str</td><td>str</td><td>str</td><td>str</td></tr></thead><tbody><tr><td>&quot;WO000000485331…</td><td>&quot;TUPAC AMARU - …</td><td>&quot;Zona Centro&quot;</td><td>&quot;Cerrado&quot;</td><td>&quot;2023-01-02&quot;</td><td>&quot;10/01/2023&quot;</td><td>&quot;13/01/2023&quot;</td></tr><tr><td>&quot;WO000000485294…</td><td>&quot;SAN JUAN DE LU…</td><td>&quot;Zona Centro&quot;</td><td>&quot;Cerrado&quot;</td><td>&quot;2023-01-02&quot;</td><td>&quot;2/01/2023&quot;</td><td>&quot;5/01/2023&quot;</td></tr><tr><td>&quot;WO000000485262…</td><td>&quot;MARIANO MELGAR…</td><td>&quot;Zona Norte&quot;</td><td>&quot;Cerrado&quot;</td><td>&quot;2023-01-02&quot;</td><td>&quot;6/01/2023&quot;</td><td>&quot;9/01/2023&quot;</td></tr><tr><td>&quot;SA000000485332…</td><td>&quot;ANDAHUAYLAS - …</td><td>&quot;Zona Norte&quot;</td><td>&quot;Cerrado&quot;</td><td>&quot;2023-01-02&quot;</td><td>&quot;7/01/2023&quot;</td><td>&quot;10/01/2023&quot;</td></tr><tr><td>&quot;SA000000485316…</td><td>&quot;COLLIQUE - 191…</td><td>&quot;Zona Centro&quot;</td><td>&quot;Cerrado&quot;</td><td>&quot;2023-01-02&quot;</td><td>&quot;4/01/2023&quot;</td><td>&quot;7/01/2023&quot;</td></tr></tbody></table></div>"
      ],
      "text/plain": [
       "shape: (5, 7)\n",
       "┌──────────────┬──────────────┬──────────────┬─────────┬──────────────┬──────────────┬─────────────┐\n",
       "│ TicketID     ┆ Ubicacion    ┆ Service Desk ┆ Estado  ┆ Fecha        ┆ Fecha        ┆ Fecha       │\n",
       "│ ---          ┆ ---          ┆ ---          ┆ ---     ┆ Creacion     ┆ Termino      ┆ Cierre      │\n",
       "│ str          ┆ str          ┆ str          ┆ str     ┆ ---          ┆ ---          ┆ ---         │\n",
       "│              ┆              ┆              ┆         ┆ str          ┆ str          ┆ str         │\n",
       "╞══════════════╪══════════════╪══════════════╪═════════╪══════════════╪══════════════╪═════════════╡\n",
       "│ WO0000004853 ┆ TUPAC AMARU  ┆ Zona Centro  ┆ Cerrado ┆ 2023-01-02   ┆ 10/01/2023   ┆ 13/01/2023  │\n",
       "│ 311          ┆ - 191038     ┆              ┆         ┆              ┆              ┆             │\n",
       "│ WO0000004852 ┆ SAN JUAN DE  ┆ Zona Centro  ┆ Cerrado ┆ 2023-01-02   ┆ 2/01/2023    ┆ 5/01/2023   │\n",
       "│ 942          ┆ LURIGANCHO - ┆              ┆         ┆              ┆              ┆             │\n",
       "│              ┆ 191017       ┆              ┆         ┆              ┆              ┆             │\n",
       "│ WO0000004852 ┆ MARIANO      ┆ Zona Norte   ┆ Cerrado ┆ 2023-01-02   ┆ 6/01/2023    ┆ 9/01/2023   │\n",
       "│ 621          ┆ MELGAR -     ┆              ┆         ┆              ┆              ┆             │\n",
       "│              ┆ 215014       ┆              ┆         ┆              ┆              ┆             │\n",
       "│ SA0000004853 ┆ ANDAHUAYLAS  ┆ Zona Norte   ┆ Cerrado ┆ 2023-01-02   ┆ 7/01/2023    ┆ 10/01/2023  │\n",
       "│ 328          ┆ - 205000     ┆              ┆         ┆              ┆              ┆             │\n",
       "│ SA0000004853 ┆ COLLIQUE -   ┆ Zona Centro  ┆ Cerrado ┆ 2023-01-02   ┆ 4/01/2023    ┆ 7/01/2023   │\n",
       "│ 160          ┆ 191065       ┆              ┆         ┆              ┆              ┆             │\n",
       "└──────────────┴──────────────┴──────────────┴─────────┴──────────────┴──────────────┴─────────────┘"
      ]
     },
     "execution_count": 155,
     "metadata": {},
     "output_type": "execute_result"
    }
   ],
   "source": [
    "tickets_act.head(5)"
   ]
  },
  {
   "cell_type": "code",
   "execution_count": 156,
   "metadata": {},
   "outputs": [
    {
     "data": {
      "text/html": [
       "<div><style>\n",
       ".dataframe > thead > tr,\n",
       ".dataframe > tbody > tr {\n",
       "  text-align: right;\n",
       "  white-space: pre-wrap;\n",
       "}\n",
       "</style>\n",
       "<small>shape: (5, 7)</small><table border=\"1\" class=\"dataframe\"><thead><tr><th>TicketID</th><th>Ubicacion</th><th>Service Desk</th><th>Estado</th><th>Fecha Creacion</th><th>Fecha Termino</th><th>Fecha Cierre</th></tr><tr><td>str</td><td>str</td><td>str</td><td>str</td><td>date</td><td>str</td><td>str</td></tr></thead><tbody><tr><td>&quot;WO000000485331…</td><td>&quot;TUPAC AMARU - …</td><td>&quot;Zona Centro&quot;</td><td>&quot;Cerrado&quot;</td><td>2023-01-02</td><td>&quot;10/01/2023&quot;</td><td>&quot;13/01/2023&quot;</td></tr><tr><td>&quot;WO000000485294…</td><td>&quot;SAN JUAN DE LU…</td><td>&quot;Zona Centro&quot;</td><td>&quot;Cerrado&quot;</td><td>2023-01-02</td><td>&quot;2/01/2023&quot;</td><td>&quot;5/01/2023&quot;</td></tr><tr><td>&quot;WO000000485262…</td><td>&quot;MARIANO MELGAR…</td><td>&quot;Zona Norte&quot;</td><td>&quot;Cerrado&quot;</td><td>2023-01-02</td><td>&quot;6/01/2023&quot;</td><td>&quot;9/01/2023&quot;</td></tr><tr><td>&quot;SA000000485332…</td><td>&quot;ANDAHUAYLAS - …</td><td>&quot;Zona Norte&quot;</td><td>&quot;Cerrado&quot;</td><td>2023-01-02</td><td>&quot;7/01/2023&quot;</td><td>&quot;10/01/2023&quot;</td></tr><tr><td>&quot;SA000000485316…</td><td>&quot;COLLIQUE - 191…</td><td>&quot;Zona Centro&quot;</td><td>&quot;Cerrado&quot;</td><td>2023-01-02</td><td>&quot;4/01/2023&quot;</td><td>&quot;7/01/2023&quot;</td></tr></tbody></table></div>"
      ],
      "text/plain": [
       "shape: (5, 7)\n",
       "┌──────────────┬──────────────┬──────────────┬─────────┬──────────────┬──────────────┬─────────────┐\n",
       "│ TicketID     ┆ Ubicacion    ┆ Service Desk ┆ Estado  ┆ Fecha        ┆ Fecha        ┆ Fecha       │\n",
       "│ ---          ┆ ---          ┆ ---          ┆ ---     ┆ Creacion     ┆ Termino      ┆ Cierre      │\n",
       "│ str          ┆ str          ┆ str          ┆ str     ┆ ---          ┆ ---          ┆ ---         │\n",
       "│              ┆              ┆              ┆         ┆ date         ┆ str          ┆ str         │\n",
       "╞══════════════╪══════════════╪══════════════╪═════════╪══════════════╪══════════════╪═════════════╡\n",
       "│ WO0000004853 ┆ TUPAC AMARU  ┆ Zona Centro  ┆ Cerrado ┆ 2023-01-02   ┆ 10/01/2023   ┆ 13/01/2023  │\n",
       "│ 311          ┆ - 191038     ┆              ┆         ┆              ┆              ┆             │\n",
       "│ WO0000004852 ┆ SAN JUAN DE  ┆ Zona Centro  ┆ Cerrado ┆ 2023-01-02   ┆ 2/01/2023    ┆ 5/01/2023   │\n",
       "│ 942          ┆ LURIGANCHO - ┆              ┆         ┆              ┆              ┆             │\n",
       "│              ┆ 191017       ┆              ┆         ┆              ┆              ┆             │\n",
       "│ WO0000004852 ┆ MARIANO      ┆ Zona Norte   ┆ Cerrado ┆ 2023-01-02   ┆ 6/01/2023    ┆ 9/01/2023   │\n",
       "│ 621          ┆ MELGAR -     ┆              ┆         ┆              ┆              ┆             │\n",
       "│              ┆ 215014       ┆              ┆         ┆              ┆              ┆             │\n",
       "│ SA0000004853 ┆ ANDAHUAYLAS  ┆ Zona Norte   ┆ Cerrado ┆ 2023-01-02   ┆ 7/01/2023    ┆ 10/01/2023  │\n",
       "│ 328          ┆ - 205000     ┆              ┆         ┆              ┆              ┆             │\n",
       "│ SA0000004853 ┆ COLLIQUE -   ┆ Zona Centro  ┆ Cerrado ┆ 2023-01-02   ┆ 4/01/2023    ┆ 7/01/2023   │\n",
       "│ 160          ┆ 191065       ┆              ┆         ┆              ┆              ┆             │\n",
       "└──────────────┴──────────────┴──────────────┴─────────┴──────────────┴──────────────┴─────────────┘"
      ]
     },
     "execution_count": 156,
     "metadata": {},
     "output_type": "execute_result"
    }
   ],
   "source": [
    "#Parseando columna fecha creacion\n",
    "tickets_act = tickets_act.cast({'Fecha Creacion': pl.Date})\n",
    "tickets_act.head(5)"
   ]
  },
  {
   "cell_type": "code",
   "execution_count": 157,
   "metadata": {},
   "outputs": [],
   "source": [
    "#Parseando las columnas de fecha\n",
    "tickets_act = tickets_act.select(\n",
    "    'TicketID',\n",
    "    'Ubicacion',\n",
    "    'Service Desk',\n",
    "    'Estado',\n",
    "    pl.col('Fecha Creacion').cast(pl.Date),\n",
    "    pl.col('Fecha Termino').str.to_date(format='%d/%m/%Y'),\n",
    "    pl.col('Fecha Cierre').str.to_date(format='%d/%m/%Y')\n",
    ")"
   ]
  },
  {
   "cell_type": "code",
   "execution_count": 158,
   "metadata": {},
   "outputs": [],
   "source": [
    "#Filtrando ticketID por los que inician con WO\n",
    "tickets_act = tickets_act.filter(\n",
    "    pl.col('TicketID').str.starts_with('WO')\n",
    ")"
   ]
  },
  {
   "cell_type": "code",
   "execution_count": 159,
   "metadata": {},
   "outputs": [],
   "source": [
    "#Uniendo los dataframes\n",
    "Tickets = pl.concat([tickets_his,tickets_act])"
   ]
  },
  {
   "cell_type": "code",
   "execution_count": 160,
   "metadata": {},
   "outputs": [
    {
     "data": {
      "text/plain": [
       "(22228, 7)"
      ]
     },
     "execution_count": 160,
     "metadata": {},
     "output_type": "execute_result"
    }
   ],
   "source": [
    "Tickets.shape"
   ]
  },
  {
   "cell_type": "code",
   "execution_count": 161,
   "metadata": {},
   "outputs": [],
   "source": [
    "#Eliminando duplicados con la siguiente regla:\n",
    " #Elimine los duplicados de la base Tickets en base a la siguiente regla: Si existen\n",
    "#dos registros cuyo TicketID es igual, debe mantenerse aquel registro donde la\n",
    "#[Fecha Creacion] sea la más actual.\"\"\"\n",
    "\n",
    "Tickets = Tickets.sort(\n",
    "    by=['TicketID', 'Fecha Creacion']\n",
    ").unique(\n",
    "    subset='TicketID',\n",
    "    keep='last',\n",
    "    maintain_order=True\n",
    ")\n"
   ]
  },
  {
   "cell_type": "code",
   "execution_count": 162,
   "metadata": {},
   "outputs": [],
   "source": [
    "#Diviendo columna ubicacion\n",
    "Tickets = Tickets.with_columns(\n",
    "    pl.col('Ubicacion').str.split_exact(' - ', 1)\n",
    "                     ).unnest('Ubicacion').rename({'field_0':'Agencia', 'field_1':'AgenciaID'})"
   ]
  },
  {
   "cell_type": "code",
   "execution_count": 163,
   "metadata": {},
   "outputs": [],
   "source": [
    "#Asignando tipo de dato a agencia ID\n",
    "Tickets = Tickets.cast({'AgenciaID': pl.Int64})"
   ]
  },
  {
   "cell_type": "code",
   "execution_count": 165,
   "metadata": {},
   "outputs": [
    {
     "data": {
      "text/html": [
       "<div><style>\n",
       ".dataframe > thead > tr,\n",
       ".dataframe > tbody > tr {\n",
       "  text-align: right;\n",
       "  white-space: pre-wrap;\n",
       "}\n",
       "</style>\n",
       "<small>shape: (22_215, 9)</small><table border=\"1\" class=\"dataframe\"><thead><tr><th>TicketID</th><th>Agencia</th><th>AgenciaID</th><th>Service Desk</th><th>Estado</th><th>Fecha Creacion</th><th>Fecha Termino</th><th>Fecha Cierre</th><th>Fecha Real Fin</th></tr><tr><td>str</td><td>str</td><td>i64</td><td>str</td><td>str</td><td>date</td><td>date</td><td>date</td><td>date</td></tr></thead><tbody><tr><td>&quot;OT000000484937…</td><td>&quot;NAYLAMP&quot;</td><td>191143</td><td>&quot;Zona Centro&quot;</td><td>&quot;Cerrado&quot;</td><td>2022-12-31</td><td>2023-01-25</td><td>2023-01-28</td><td>2023-01-25</td></tr><tr><td>&quot;OT000000484938…</td><td>&quot;LOS DAMASCOS&quot;</td><td>193038</td><td>&quot;Zona Sur&quot;</td><td>&quot;Cerrado&quot;</td><td>2022-12-31</td><td>2023-01-04</td><td>2023-01-07</td><td>2023-01-04</td></tr><tr><td>&quot;OT000000484972…</td><td>&quot;LUREN&quot;</td><td>380004</td><td>&quot;Zona Sur&quot;</td><td>&quot;Cerrado&quot;</td><td>2022-12-31</td><td>2023-01-02</td><td>2023-01-05</td><td>2023-01-02</td></tr><tr><td>&quot;OT000000484973…</td><td>&quot;EL PINO&quot;</td><td>191087</td><td>&quot;Zona Centro&quot;</td><td>&quot;Cerrado&quot;</td><td>2022-12-31</td><td>2023-01-06</td><td>2023-01-09</td><td>2023-01-06</td></tr><tr><td>&quot;SA000000484930…</td><td>&quot;TUSILAGOS&quot;</td><td>191108</td><td>&quot;Zona Centro&quot;</td><td>&quot;Rechazado&quot;</td><td>2022-12-31</td><td>null</td><td>null</td><td>null</td></tr><tr><td>&quot;WO000000412230…</td><td>&quot;IMPERIAL&quot;</td><td>255001</td><td>&quot;Zona Norte&quot;</td><td>&quot;Cerrado&quot;</td><td>2022-06-01</td><td>2022-06-10</td><td>2022-06-10</td><td>2022-06-10</td></tr><tr><td>&quot;WO000000412230…</td><td>&quot;IMPERIAL&quot;</td><td>255001</td><td>&quot;Zona Norte&quot;</td><td>&quot;Cerrado&quot;</td><td>2022-06-01</td><td>2022-06-17</td><td>2022-06-17</td><td>2022-06-17</td></tr><tr><td>&quot;WO000000412235…</td><td>&quot;PLAZA UNION&quot;</td><td>191062</td><td>&quot;Zona Centro&quot;</td><td>&quot;Cerrado&quot;</td><td>2022-06-01</td><td>2022-06-05</td><td>2022-06-05</td><td>2022-06-05</td></tr><tr><td>&quot;WO000000412236…</td><td>&quot;AREQUIPA&quot;</td><td>215000</td><td>&quot;Zona Norte&quot;</td><td>&quot;Cerrado&quot;</td><td>2022-06-01</td><td>2022-06-13</td><td>2022-06-13</td><td>2022-06-13</td></tr><tr><td>&quot;WO000000412238…</td><td>&quot;PLAZA LIMA NOR…</td><td>191058</td><td>&quot;Zona Centro&quot;</td><td>&quot;Rechazado&quot;</td><td>2022-06-01</td><td>2022-06-06</td><td>null</td><td>2022-06-06</td></tr><tr><td>&quot;WO000000412240…</td><td>&quot;TUPAC AMARU&quot;</td><td>191038</td><td>&quot;Zona Centro&quot;</td><td>&quot;Cerrado&quot;</td><td>2022-06-01</td><td>2022-06-07</td><td>2022-06-07</td><td>2022-06-07</td></tr><tr><td>&quot;WO000000412241…</td><td>&quot;ICA&quot;</td><td>380000</td><td>&quot;Zona Norte&quot;</td><td>&quot;Rechazado&quot;</td><td>2022-06-01</td><td>2022-06-26</td><td>null</td><td>2022-06-26</td></tr><tr><td>&hellip;</td><td>&hellip;</td><td>&hellip;</td><td>&hellip;</td><td>&hellip;</td><td>&hellip;</td><td>&hellip;</td><td>&hellip;</td><td>&hellip;</td></tr><tr><td>&quot;WO000000573832…</td><td>&quot;PUNTO BCP SANT…</td><td>191173</td><td>&quot;Zona Sur&quot;</td><td>&quot;En curso&quot;</td><td>2023-10-29</td><td>null</td><td>null</td><td>null</td></tr><tr><td>&quot;WO000000573833…</td><td>&quot;LA FONTANA&quot;</td><td>193054</td><td>&quot;Zona Sur&quot;</td><td>&quot;En curso&quot;</td><td>2023-10-29</td><td>null</td><td>null</td><td>null</td></tr><tr><td>&quot;WO000000573834…</td><td>&quot;LA FONTANA&quot;</td><td>193054</td><td>&quot;Zona Sur&quot;</td><td>&quot;Rechazado&quot;</td><td>2023-10-29</td><td>null</td><td>null</td><td>null</td></tr><tr><td>&quot;WO000000573834…</td><td>&quot;LA FONTANA&quot;</td><td>193054</td><td>&quot;Zona Sur&quot;</td><td>&quot;Rechazado&quot;</td><td>2023-10-29</td><td>null</td><td>null</td><td>null</td></tr><tr><td>&quot;WO000000573870…</td><td>&quot;IMPERIAL&quot;</td><td>255001</td><td>&quot;Zona Sur&quot;</td><td>&quot;En curso&quot;</td><td>2023-10-29</td><td>null</td><td>null</td><td>null</td></tr><tr><td>&quot;WO000000573870…</td><td>&quot;PISCO&quot;</td><td>470000</td><td>&quot;Zona Sur&quot;</td><td>&quot;En curso&quot;</td><td>2023-10-29</td><td>null</td><td>null</td><td>null</td></tr><tr><td>&quot;WO000000573870…</td><td>&quot;PUENTE PIEDRA&quot;</td><td>191035</td><td>&quot;Zona Centro&quot;</td><td>&quot;En curso&quot;</td><td>2023-10-29</td><td>null</td><td>null</td><td>null</td></tr><tr><td>&quot;WO000000573870…</td><td>&quot;MEGA PLAZA&quot;</td><td>191010</td><td>&quot;Zona Centro&quot;</td><td>&quot;En curso&quot;</td><td>2023-10-29</td><td>null</td><td>null</td><td>null</td></tr><tr><td>&quot;WO000000573871…</td><td>&quot;LUREN&quot;</td><td>380004</td><td>&quot;Zona Sur&quot;</td><td>&quot;En curso&quot;</td><td>2023-10-29</td><td>null</td><td>null</td><td>null</td></tr><tr><td>&quot;WO000000573872…</td><td>&quot;PISCO&quot;</td><td>470000</td><td>&quot;Zona Sur&quot;</td><td>&quot;En curso&quot;</td><td>2023-10-29</td><td>null</td><td>null</td><td>null</td></tr><tr><td>&quot;WO000000573872…</td><td>&quot;NACIONES UNIDA…</td><td>191084</td><td>&quot;Zona Centro&quot;</td><td>&quot;En curso&quot;</td><td>2023-10-29</td><td>null</td><td>null</td><td>null</td></tr><tr><td>&quot;WO000000573872…</td><td>&quot;NACIONES UNIDA…</td><td>191084</td><td>&quot;Zona Centro&quot;</td><td>&quot;En curso&quot;</td><td>2023-10-29</td><td>null</td><td>null</td><td>null</td></tr></tbody></table></div>"
      ],
      "text/plain": [
       "shape: (22_215, 9)\n",
       "┌───────────┬───────────┬───────────┬───────────┬───┬───────────┬───────────┬───────────┬──────────┐\n",
       "│ TicketID  ┆ Agencia   ┆ AgenciaID ┆ Service   ┆ … ┆ Fecha     ┆ Fecha     ┆ Fecha     ┆ Fecha    │\n",
       "│ ---       ┆ ---       ┆ ---       ┆ Desk      ┆   ┆ Creacion  ┆ Termino   ┆ Cierre    ┆ Real Fin │\n",
       "│ str       ┆ str       ┆ i64       ┆ ---       ┆   ┆ ---       ┆ ---       ┆ ---       ┆ ---      │\n",
       "│           ┆           ┆           ┆ str       ┆   ┆ date      ┆ date      ┆ date      ┆ date     │\n",
       "╞═══════════╪═══════════╪═══════════╪═══════════╪═══╪═══════════╪═══════════╪═══════════╪══════════╡\n",
       "│ OT0000004 ┆ NAYLAMP   ┆ 191143    ┆ Zona      ┆ … ┆ 2022-12-3 ┆ 2023-01-2 ┆ 2023-01-2 ┆ 2023-01- │\n",
       "│ 849379    ┆           ┆           ┆ Centro    ┆   ┆ 1         ┆ 5         ┆ 8         ┆ 25       │\n",
       "│ OT0000004 ┆ LOS       ┆ 193038    ┆ Zona Sur  ┆ … ┆ 2022-12-3 ┆ 2023-01-0 ┆ 2023-01-0 ┆ 2023-01- │\n",
       "│ 849382    ┆ DAMASCOS  ┆           ┆           ┆   ┆ 1         ┆ 4         ┆ 7         ┆ 04       │\n",
       "│ OT0000004 ┆ LUREN     ┆ 380004    ┆ Zona Sur  ┆ … ┆ 2022-12-3 ┆ 2023-01-0 ┆ 2023-01-0 ┆ 2023-01- │\n",
       "│ 849726    ┆           ┆           ┆           ┆   ┆ 1         ┆ 2         ┆ 5         ┆ 02       │\n",
       "│ OT0000004 ┆ EL PINO   ┆ 191087    ┆ Zona      ┆ … ┆ 2022-12-3 ┆ 2023-01-0 ┆ 2023-01-0 ┆ 2023-01- │\n",
       "│ 849732    ┆           ┆           ┆ Centro    ┆   ┆ 1         ┆ 6         ┆ 9         ┆ 06       │\n",
       "│ SA0000004 ┆ TUSILAGOS ┆ 191108    ┆ Zona      ┆ … ┆ 2022-12-3 ┆ null      ┆ null      ┆ null     │\n",
       "│ 849307    ┆           ┆           ┆ Centro    ┆   ┆ 1         ┆           ┆           ┆          │\n",
       "│ …         ┆ …         ┆ …         ┆ …         ┆ … ┆ …         ┆ …         ┆ …         ┆ …        │\n",
       "│ WO0000005 ┆ MEGA      ┆ 191010    ┆ Zona      ┆ … ┆ 2023-10-2 ┆ null      ┆ null      ┆ null     │\n",
       "│ 738709    ┆ PLAZA     ┆           ┆ Centro    ┆   ┆ 9         ┆           ┆           ┆          │\n",
       "│ WO0000005 ┆ LUREN     ┆ 380004    ┆ Zona Sur  ┆ … ┆ 2023-10-2 ┆ null      ┆ null      ┆ null     │\n",
       "│ 738715    ┆           ┆           ┆           ┆   ┆ 9         ┆           ┆           ┆          │\n",
       "│ WO0000005 ┆ PISCO     ┆ 470000    ┆ Zona Sur  ┆ … ┆ 2023-10-2 ┆ null      ┆ null      ┆ null     │\n",
       "│ 738721    ┆           ┆           ┆           ┆   ┆ 9         ┆           ┆           ┆          │\n",
       "│ WO0000005 ┆ NACIONES  ┆ 191084    ┆ Zona      ┆ … ┆ 2023-10-2 ┆ null      ┆ null      ┆ null     │\n",
       "│ 738726    ┆ UNIDAS    ┆           ┆ Centro    ┆   ┆ 9         ┆           ┆           ┆          │\n",
       "│ WO0000005 ┆ NACIONES  ┆ 191084    ┆ Zona      ┆ … ┆ 2023-10-2 ┆ null      ┆ null      ┆ null     │\n",
       "│ 738729    ┆ UNIDAS    ┆           ┆ Centro    ┆   ┆ 9         ┆           ┆           ┆          │\n",
       "└───────────┴───────────┴───────────┴───────────┴───┴───────────┴───────────┴───────────┴──────────┘"
      ]
     },
     "execution_count": 165,
     "metadata": {},
     "output_type": "execute_result"
    }
   ],
   "source": [
    "#Creando nueva columna para fecha fin real\n",
    "Tickets = Tickets.with_columns(\n",
    "    pl.when(pl.col('Fecha Termino').is_null()).then(pl.col('Fecha Cierre')).otherwise(pl.col('Fecha Termino')).alias('Fecha Real Fin')\n",
    ")\n",
    "Tickets"
   ]
  }
 ],
 "metadata": {
  "kernelspec": {
   "display_name": "Gestion_Atenciones",
   "language": "python",
   "name": "python3"
  },
  "language_info": {
   "codemirror_mode": {
    "name": "ipython",
    "version": 3
   },
   "file_extension": ".py",
   "mimetype": "text/x-python",
   "name": "python",
   "nbconvert_exporter": "python",
   "pygments_lexer": "ipython3",
   "version": "3.11.6"
  }
 },
 "nbformat": 4,
 "nbformat_minor": 2
}
