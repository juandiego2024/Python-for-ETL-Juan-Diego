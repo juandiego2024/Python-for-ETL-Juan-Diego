{
 "cells": [
  {
   "cell_type": "markdown",
   "metadata": {},
   "source": [
    "NOMBRE: JUAN DIEGO RAMIREZ MARCHAN\n",
    "ENTREGABLE 01"
   ]
  },
  {
   "cell_type": "code",
   "execution_count": 492,
   "metadata": {},
   "outputs": [],
   "source": [
    "import polars as pl\n",
    "import xlsx2csv"
   ]
  },
  {
   "cell_type": "markdown",
   "metadata": {},
   "source": [
    "TRANSFORMACIONES"
   ]
  },
  {
   "cell_type": "markdown",
   "metadata": {},
   "source": [
    "**BASE TICKETS**"
   ]
  },
  {
   "cell_type": "code",
   "execution_count": 493,
   "metadata": {},
   "outputs": [],
   "source": [
    "#Leyendo datos de tickets histórico\n",
    "tickets_his = pl.read_csv(\n",
    "    source='C:\\ETL\\Gestion_Atenciones\\Materiales\\Tickets\\Tickets Historico.txt',\n",
    "    separator=';',\n",
    "    columns=['Numero Ticket', 'Ubicacion', 'Service Desk', 'Estado', 'Fecha Creacion', 'Fecha Termino', 'Fecha Cierre'],\n",
    "    try_parse_dates=True,\n",
    "    ignore_errors=True\n",
    ").rename({'Numero Ticket':'TicketID'})"
   ]
  },
  {
   "cell_type": "code",
   "execution_count": 494,
   "metadata": {},
   "outputs": [
    {
     "data": {
      "text/html": [
       "<div><style>\n",
       ".dataframe > thead > tr,\n",
       ".dataframe > tbody > tr {\n",
       "  text-align: right;\n",
       "  white-space: pre-wrap;\n",
       "}\n",
       "</style>\n",
       "<small>shape: (5, 7)</small><table border=\"1\" class=\"dataframe\"><thead><tr><th>TicketID</th><th>Ubicacion</th><th>Service Desk</th><th>Estado</th><th>Fecha Creacion</th><th>Fecha Termino</th><th>Fecha Cierre</th></tr><tr><td>str</td><td>str</td><td>str</td><td>str</td><td>date</td><td>date</td><td>date</td></tr></thead><tbody><tr><td>&quot;WO000000412268…</td><td>&quot;AREQUIPA - 215…</td><td>&quot;Zona Norte&quot;</td><td>&quot;Cerrado&quot;</td><td>2022-06-01</td><td>2022-06-14</td><td>2022-06-14</td></tr><tr><td>&quot;WO000000412264…</td><td>&quot;METRO AV. WIES…</td><td>&quot;Zona Centro&quot;</td><td>&quot;Cerrado&quot;</td><td>2022-06-01</td><td>2022-06-17</td><td>2022-06-17</td></tr><tr><td>&quot;WO000000412250…</td><td>&quot;NICOLAS AYLLON…</td><td>&quot;Zona Centro&quot;</td><td>&quot;Cerrado&quot;</td><td>2022-06-01</td><td>2022-06-08</td><td>2022-06-08</td></tr><tr><td>&quot;WO000000412251…</td><td>&quot;JAUREGUI - 405…</td><td>&quot;Zona Norte&quot;</td><td>&quot;Cerrado&quot;</td><td>2022-06-01</td><td>2022-06-18</td><td>2022-06-18</td></tr><tr><td>&quot;WO000000412274…</td><td>&quot;CANTO GRANDE -…</td><td>&quot;Zona Centro&quot;</td><td>&quot;Cerrado&quot;</td><td>2022-06-01</td><td>2022-06-08</td><td>2022-06-08</td></tr></tbody></table></div>"
      ],
      "text/plain": [
       "shape: (5, 7)\n",
       "┌──────────────┬──────────────┬──────────────┬─────────┬──────────────┬──────────────┬─────────────┐\n",
       "│ TicketID     ┆ Ubicacion    ┆ Service Desk ┆ Estado  ┆ Fecha        ┆ Fecha        ┆ Fecha       │\n",
       "│ ---          ┆ ---          ┆ ---          ┆ ---     ┆ Creacion     ┆ Termino      ┆ Cierre      │\n",
       "│ str          ┆ str          ┆ str          ┆ str     ┆ ---          ┆ ---          ┆ ---         │\n",
       "│              ┆              ┆              ┆         ┆ date         ┆ date         ┆ date        │\n",
       "╞══════════════╪══════════════╪══════════════╪═════════╪══════════════╪══════════════╪═════════════╡\n",
       "│ WO0000004122 ┆ AREQUIPA -   ┆ Zona Norte   ┆ Cerrado ┆ 2022-06-01   ┆ 2022-06-14   ┆ 2022-06-14  │\n",
       "│ 687          ┆ 215000       ┆              ┆         ┆              ┆              ┆             │\n",
       "│ WO0000004122 ┆ METRO AV.    ┆ Zona Centro  ┆ Cerrado ┆ 2022-06-01   ┆ 2022-06-17   ┆ 2022-06-17  │\n",
       "│ 649          ┆ WIESSE -     ┆              ┆         ┆              ┆              ┆             │\n",
       "│              ┆ 191106       ┆              ┆         ┆              ┆              ┆             │\n",
       "│ WO0000004122 ┆ NICOLAS      ┆ Zona Centro  ┆ Cerrado ┆ 2022-06-01   ┆ 2022-06-08   ┆ 2022-06-08  │\n",
       "│ 502          ┆ AYLLON -     ┆              ┆         ┆              ┆              ┆             │\n",
       "│              ┆ 191027       ┆              ┆         ┆              ┆              ┆             │\n",
       "│ WO0000004122 ┆ JAUREGUI -   ┆ Zona Norte   ┆ Cerrado ┆ 2022-06-01   ┆ 2022-06-18   ┆ 2022-06-18  │\n",
       "│ 513          ┆ 405005       ┆              ┆         ┆              ┆              ┆             │\n",
       "│ WO0000004122 ┆ CANTO GRANDE ┆ Zona Centro  ┆ Cerrado ┆ 2022-06-01   ┆ 2022-06-08   ┆ 2022-06-08  │\n",
       "│ 741          ┆ - 191096     ┆              ┆         ┆              ┆              ┆             │\n",
       "└──────────────┴──────────────┴──────────────┴─────────┴──────────────┴──────────────┴─────────────┘"
      ]
     },
     "execution_count": 494,
     "metadata": {},
     "output_type": "execute_result"
    }
   ],
   "source": [
    "tickets_his.head(5)"
   ]
  },
  {
   "cell_type": "code",
   "execution_count": 495,
   "metadata": {},
   "outputs": [],
   "source": [
    "#Leyendo datos de tickets Actual y renombrando columna numero ticket\n",
    "tickets_act = pl.read_csv(\n",
    "    source='C:\\ETL\\Gestion_Atenciones\\Materiales\\Tickets\\Tickets Actual.csv',\n",
    "    separator='|',\n",
    "    columns=['Numero Ticket', 'Ubicacion', 'Service Desk', 'Estado', 'Fecha Creacion', 'Fecha Termino', 'Fecha Cierre'],\n",
    ").rename({'Numero Ticket':'TicketID'})\n",
    "\n"
   ]
  },
  {
   "cell_type": "code",
   "execution_count": 496,
   "metadata": {},
   "outputs": [
    {
     "data": {
      "text/html": [
       "<div><style>\n",
       ".dataframe > thead > tr,\n",
       ".dataframe > tbody > tr {\n",
       "  text-align: right;\n",
       "  white-space: pre-wrap;\n",
       "}\n",
       "</style>\n",
       "<small>shape: (5, 7)</small><table border=\"1\" class=\"dataframe\"><thead><tr><th>TicketID</th><th>Ubicacion</th><th>Service Desk</th><th>Estado</th><th>Fecha Creacion</th><th>Fecha Termino</th><th>Fecha Cierre</th></tr><tr><td>str</td><td>str</td><td>str</td><td>str</td><td>str</td><td>str</td><td>str</td></tr></thead><tbody><tr><td>&quot;WO000000485331…</td><td>&quot;TUPAC AMARU - …</td><td>&quot;Zona Centro&quot;</td><td>&quot;Cerrado&quot;</td><td>&quot;2023-01-02&quot;</td><td>&quot;10/01/2023&quot;</td><td>&quot;13/01/2023&quot;</td></tr><tr><td>&quot;WO000000485294…</td><td>&quot;SAN JUAN DE LU…</td><td>&quot;Zona Centro&quot;</td><td>&quot;Cerrado&quot;</td><td>&quot;2023-01-02&quot;</td><td>&quot;2/01/2023&quot;</td><td>&quot;5/01/2023&quot;</td></tr><tr><td>&quot;WO000000485262…</td><td>&quot;MARIANO MELGAR…</td><td>&quot;Zona Norte&quot;</td><td>&quot;Cerrado&quot;</td><td>&quot;2023-01-02&quot;</td><td>&quot;6/01/2023&quot;</td><td>&quot;9/01/2023&quot;</td></tr><tr><td>&quot;SA000000485332…</td><td>&quot;ANDAHUAYLAS - …</td><td>&quot;Zona Norte&quot;</td><td>&quot;Cerrado&quot;</td><td>&quot;2023-01-02&quot;</td><td>&quot;7/01/2023&quot;</td><td>&quot;10/01/2023&quot;</td></tr><tr><td>&quot;SA000000485316…</td><td>&quot;COLLIQUE - 191…</td><td>&quot;Zona Centro&quot;</td><td>&quot;Cerrado&quot;</td><td>&quot;2023-01-02&quot;</td><td>&quot;4/01/2023&quot;</td><td>&quot;7/01/2023&quot;</td></tr></tbody></table></div>"
      ],
      "text/plain": [
       "shape: (5, 7)\n",
       "┌──────────────┬──────────────┬──────────────┬─────────┬──────────────┬──────────────┬─────────────┐\n",
       "│ TicketID     ┆ Ubicacion    ┆ Service Desk ┆ Estado  ┆ Fecha        ┆ Fecha        ┆ Fecha       │\n",
       "│ ---          ┆ ---          ┆ ---          ┆ ---     ┆ Creacion     ┆ Termino      ┆ Cierre      │\n",
       "│ str          ┆ str          ┆ str          ┆ str     ┆ ---          ┆ ---          ┆ ---         │\n",
       "│              ┆              ┆              ┆         ┆ str          ┆ str          ┆ str         │\n",
       "╞══════════════╪══════════════╪══════════════╪═════════╪══════════════╪══════════════╪═════════════╡\n",
       "│ WO0000004853 ┆ TUPAC AMARU  ┆ Zona Centro  ┆ Cerrado ┆ 2023-01-02   ┆ 10/01/2023   ┆ 13/01/2023  │\n",
       "│ 311          ┆ - 191038     ┆              ┆         ┆              ┆              ┆             │\n",
       "│ WO0000004852 ┆ SAN JUAN DE  ┆ Zona Centro  ┆ Cerrado ┆ 2023-01-02   ┆ 2/01/2023    ┆ 5/01/2023   │\n",
       "│ 942          ┆ LURIGANCHO - ┆              ┆         ┆              ┆              ┆             │\n",
       "│              ┆ 191017       ┆              ┆         ┆              ┆              ┆             │\n",
       "│ WO0000004852 ┆ MARIANO      ┆ Zona Norte   ┆ Cerrado ┆ 2023-01-02   ┆ 6/01/2023    ┆ 9/01/2023   │\n",
       "│ 621          ┆ MELGAR -     ┆              ┆         ┆              ┆              ┆             │\n",
       "│              ┆ 215014       ┆              ┆         ┆              ┆              ┆             │\n",
       "│ SA0000004853 ┆ ANDAHUAYLAS  ┆ Zona Norte   ┆ Cerrado ┆ 2023-01-02   ┆ 7/01/2023    ┆ 10/01/2023  │\n",
       "│ 328          ┆ - 205000     ┆              ┆         ┆              ┆              ┆             │\n",
       "│ SA0000004853 ┆ COLLIQUE -   ┆ Zona Centro  ┆ Cerrado ┆ 2023-01-02   ┆ 4/01/2023    ┆ 7/01/2023   │\n",
       "│ 160          ┆ 191065       ┆              ┆         ┆              ┆              ┆             │\n",
       "└──────────────┴──────────────┴──────────────┴─────────┴──────────────┴──────────────┴─────────────┘"
      ]
     },
     "execution_count": 496,
     "metadata": {},
     "output_type": "execute_result"
    }
   ],
   "source": [
    "tickets_act.head(5)"
   ]
  },
  {
   "cell_type": "code",
   "execution_count": 497,
   "metadata": {},
   "outputs": [
    {
     "data": {
      "text/html": [
       "<div><style>\n",
       ".dataframe > thead > tr,\n",
       ".dataframe > tbody > tr {\n",
       "  text-align: right;\n",
       "  white-space: pre-wrap;\n",
       "}\n",
       "</style>\n",
       "<small>shape: (5, 7)</small><table border=\"1\" class=\"dataframe\"><thead><tr><th>TicketID</th><th>Ubicacion</th><th>Service Desk</th><th>Estado</th><th>Fecha Creacion</th><th>Fecha Termino</th><th>Fecha Cierre</th></tr><tr><td>str</td><td>str</td><td>str</td><td>str</td><td>date</td><td>str</td><td>str</td></tr></thead><tbody><tr><td>&quot;WO000000485331…</td><td>&quot;TUPAC AMARU - …</td><td>&quot;Zona Centro&quot;</td><td>&quot;Cerrado&quot;</td><td>2023-01-02</td><td>&quot;10/01/2023&quot;</td><td>&quot;13/01/2023&quot;</td></tr><tr><td>&quot;WO000000485294…</td><td>&quot;SAN JUAN DE LU…</td><td>&quot;Zona Centro&quot;</td><td>&quot;Cerrado&quot;</td><td>2023-01-02</td><td>&quot;2/01/2023&quot;</td><td>&quot;5/01/2023&quot;</td></tr><tr><td>&quot;WO000000485262…</td><td>&quot;MARIANO MELGAR…</td><td>&quot;Zona Norte&quot;</td><td>&quot;Cerrado&quot;</td><td>2023-01-02</td><td>&quot;6/01/2023&quot;</td><td>&quot;9/01/2023&quot;</td></tr><tr><td>&quot;SA000000485332…</td><td>&quot;ANDAHUAYLAS - …</td><td>&quot;Zona Norte&quot;</td><td>&quot;Cerrado&quot;</td><td>2023-01-02</td><td>&quot;7/01/2023&quot;</td><td>&quot;10/01/2023&quot;</td></tr><tr><td>&quot;SA000000485316…</td><td>&quot;COLLIQUE - 191…</td><td>&quot;Zona Centro&quot;</td><td>&quot;Cerrado&quot;</td><td>2023-01-02</td><td>&quot;4/01/2023&quot;</td><td>&quot;7/01/2023&quot;</td></tr></tbody></table></div>"
      ],
      "text/plain": [
       "shape: (5, 7)\n",
       "┌──────────────┬──────────────┬──────────────┬─────────┬──────────────┬──────────────┬─────────────┐\n",
       "│ TicketID     ┆ Ubicacion    ┆ Service Desk ┆ Estado  ┆ Fecha        ┆ Fecha        ┆ Fecha       │\n",
       "│ ---          ┆ ---          ┆ ---          ┆ ---     ┆ Creacion     ┆ Termino      ┆ Cierre      │\n",
       "│ str          ┆ str          ┆ str          ┆ str     ┆ ---          ┆ ---          ┆ ---         │\n",
       "│              ┆              ┆              ┆         ┆ date         ┆ str          ┆ str         │\n",
       "╞══════════════╪══════════════╪══════════════╪═════════╪══════════════╪══════════════╪═════════════╡\n",
       "│ WO0000004853 ┆ TUPAC AMARU  ┆ Zona Centro  ┆ Cerrado ┆ 2023-01-02   ┆ 10/01/2023   ┆ 13/01/2023  │\n",
       "│ 311          ┆ - 191038     ┆              ┆         ┆              ┆              ┆             │\n",
       "│ WO0000004852 ┆ SAN JUAN DE  ┆ Zona Centro  ┆ Cerrado ┆ 2023-01-02   ┆ 2/01/2023    ┆ 5/01/2023   │\n",
       "│ 942          ┆ LURIGANCHO - ┆              ┆         ┆              ┆              ┆             │\n",
       "│              ┆ 191017       ┆              ┆         ┆              ┆              ┆             │\n",
       "│ WO0000004852 ┆ MARIANO      ┆ Zona Norte   ┆ Cerrado ┆ 2023-01-02   ┆ 6/01/2023    ┆ 9/01/2023   │\n",
       "│ 621          ┆ MELGAR -     ┆              ┆         ┆              ┆              ┆             │\n",
       "│              ┆ 215014       ┆              ┆         ┆              ┆              ┆             │\n",
       "│ SA0000004853 ┆ ANDAHUAYLAS  ┆ Zona Norte   ┆ Cerrado ┆ 2023-01-02   ┆ 7/01/2023    ┆ 10/01/2023  │\n",
       "│ 328          ┆ - 205000     ┆              ┆         ┆              ┆              ┆             │\n",
       "│ SA0000004853 ┆ COLLIQUE -   ┆ Zona Centro  ┆ Cerrado ┆ 2023-01-02   ┆ 4/01/2023    ┆ 7/01/2023   │\n",
       "│ 160          ┆ 191065       ┆              ┆         ┆              ┆              ┆             │\n",
       "└──────────────┴──────────────┴──────────────┴─────────┴──────────────┴──────────────┴─────────────┘"
      ]
     },
     "execution_count": 497,
     "metadata": {},
     "output_type": "execute_result"
    }
   ],
   "source": [
    "#Parseando columna fecha creacion\n",
    "tickets_act = tickets_act.cast({'Fecha Creacion': pl.Date})\n",
    "tickets_act.head(5)"
   ]
  },
  {
   "cell_type": "code",
   "execution_count": 498,
   "metadata": {},
   "outputs": [],
   "source": [
    "#Parseando las columnas de fecha\n",
    "tickets_act = tickets_act.select(\n",
    "    'TicketID',\n",
    "    'Ubicacion',\n",
    "    'Service Desk',\n",
    "    'Estado',\n",
    "    pl.col('Fecha Creacion').cast(pl.Date),\n",
    "    pl.col('Fecha Termino').str.to_date(format='%d/%m/%Y'),\n",
    "    pl.col('Fecha Cierre').str.to_date(format='%d/%m/%Y')\n",
    ")"
   ]
  },
  {
   "cell_type": "code",
   "execution_count": 499,
   "metadata": {},
   "outputs": [],
   "source": [
    "#Filtrando ticketID por los que inician con WO\n",
    "tickets_act = tickets_act.filter(\n",
    "    pl.col('TicketID').str.starts_with('WO')\n",
    ")"
   ]
  },
  {
   "cell_type": "code",
   "execution_count": 500,
   "metadata": {},
   "outputs": [],
   "source": [
    "#Uniendo los dataframes\n",
    "Tickets = pl.concat([tickets_his,tickets_act])"
   ]
  },
  {
   "cell_type": "code",
   "execution_count": 501,
   "metadata": {},
   "outputs": [
    {
     "data": {
      "text/plain": [
       "(22228, 7)"
      ]
     },
     "execution_count": 501,
     "metadata": {},
     "output_type": "execute_result"
    }
   ],
   "source": [
    "Tickets.shape"
   ]
  },
  {
   "cell_type": "code",
   "execution_count": 502,
   "metadata": {},
   "outputs": [],
   "source": [
    "#Eliminando duplicados con la siguiente regla:\n",
    " #Elimine los duplicados de la base Tickets en base a la siguiente regla: Si existen\n",
    "#dos registros cuyo TicketID es igual, debe mantenerse aquel registro donde la\n",
    "#[Fecha Creacion] sea la más actual.\"\"\"\n",
    "\n",
    "Tickets = Tickets.sort(\n",
    "    by=['TicketID', 'Fecha Creacion']\n",
    ").unique(\n",
    "    subset='TicketID',\n",
    "    keep='last',\n",
    "    maintain_order=True\n",
    ")\n"
   ]
  },
  {
   "cell_type": "code",
   "execution_count": 503,
   "metadata": {},
   "outputs": [],
   "source": [
    "#Diviendo columna ubicacion\n",
    "Tickets = Tickets.with_columns(\n",
    "    pl.col('Ubicacion').str.split_exact(' - ', 1)\n",
    "                     ).unnest('Ubicacion').rename({'field_0':'Agencia', 'field_1':'AgenciaID'})"
   ]
  },
  {
   "cell_type": "code",
   "execution_count": 504,
   "metadata": {},
   "outputs": [],
   "source": [
    "#Asignando tipo de dato a agencia ID\n",
    "Tickets = Tickets.cast({'AgenciaID': pl.Int64})"
   ]
  },
  {
   "cell_type": "code",
   "execution_count": 505,
   "metadata": {},
   "outputs": [
    {
     "data": {
      "text/html": [
       "<div><style>\n",
       ".dataframe > thead > tr,\n",
       ".dataframe > tbody > tr {\n",
       "  text-align: right;\n",
       "  white-space: pre-wrap;\n",
       "}\n",
       "</style>\n",
       "<small>shape: (22_215, 9)</small><table border=\"1\" class=\"dataframe\"><thead><tr><th>TicketID</th><th>Agencia</th><th>AgenciaID</th><th>Service Desk</th><th>Estado</th><th>Fecha Creacion</th><th>Fecha Termino</th><th>Fecha Cierre</th><th>Fecha Real Fin</th></tr><tr><td>str</td><td>str</td><td>i64</td><td>str</td><td>str</td><td>date</td><td>date</td><td>date</td><td>date</td></tr></thead><tbody><tr><td>&quot;OT000000484937…</td><td>&quot;NAYLAMP&quot;</td><td>191143</td><td>&quot;Zona Centro&quot;</td><td>&quot;Cerrado&quot;</td><td>2022-12-31</td><td>2023-01-25</td><td>2023-01-28</td><td>2023-01-25</td></tr><tr><td>&quot;OT000000484938…</td><td>&quot;LOS DAMASCOS&quot;</td><td>193038</td><td>&quot;Zona Sur&quot;</td><td>&quot;Cerrado&quot;</td><td>2022-12-31</td><td>2023-01-04</td><td>2023-01-07</td><td>2023-01-04</td></tr><tr><td>&quot;OT000000484972…</td><td>&quot;LUREN&quot;</td><td>380004</td><td>&quot;Zona Sur&quot;</td><td>&quot;Cerrado&quot;</td><td>2022-12-31</td><td>2023-01-02</td><td>2023-01-05</td><td>2023-01-02</td></tr><tr><td>&quot;OT000000484973…</td><td>&quot;EL PINO&quot;</td><td>191087</td><td>&quot;Zona Centro&quot;</td><td>&quot;Cerrado&quot;</td><td>2022-12-31</td><td>2023-01-06</td><td>2023-01-09</td><td>2023-01-06</td></tr><tr><td>&quot;SA000000484930…</td><td>&quot;TUSILAGOS&quot;</td><td>191108</td><td>&quot;Zona Centro&quot;</td><td>&quot;Rechazado&quot;</td><td>2022-12-31</td><td>null</td><td>null</td><td>null</td></tr><tr><td>&quot;WO000000412230…</td><td>&quot;IMPERIAL&quot;</td><td>255001</td><td>&quot;Zona Norte&quot;</td><td>&quot;Cerrado&quot;</td><td>2022-06-01</td><td>2022-06-10</td><td>2022-06-10</td><td>2022-06-10</td></tr><tr><td>&quot;WO000000412230…</td><td>&quot;IMPERIAL&quot;</td><td>255001</td><td>&quot;Zona Norte&quot;</td><td>&quot;Cerrado&quot;</td><td>2022-06-01</td><td>2022-06-17</td><td>2022-06-17</td><td>2022-06-17</td></tr><tr><td>&quot;WO000000412235…</td><td>&quot;PLAZA UNION&quot;</td><td>191062</td><td>&quot;Zona Centro&quot;</td><td>&quot;Cerrado&quot;</td><td>2022-06-01</td><td>2022-06-05</td><td>2022-06-05</td><td>2022-06-05</td></tr><tr><td>&quot;WO000000412236…</td><td>&quot;AREQUIPA&quot;</td><td>215000</td><td>&quot;Zona Norte&quot;</td><td>&quot;Cerrado&quot;</td><td>2022-06-01</td><td>2022-06-13</td><td>2022-06-13</td><td>2022-06-13</td></tr><tr><td>&quot;WO000000412238…</td><td>&quot;PLAZA LIMA NOR…</td><td>191058</td><td>&quot;Zona Centro&quot;</td><td>&quot;Rechazado&quot;</td><td>2022-06-01</td><td>2022-06-06</td><td>null</td><td>2022-06-06</td></tr><tr><td>&quot;WO000000412240…</td><td>&quot;TUPAC AMARU&quot;</td><td>191038</td><td>&quot;Zona Centro&quot;</td><td>&quot;Cerrado&quot;</td><td>2022-06-01</td><td>2022-06-07</td><td>2022-06-07</td><td>2022-06-07</td></tr><tr><td>&quot;WO000000412241…</td><td>&quot;ICA&quot;</td><td>380000</td><td>&quot;Zona Norte&quot;</td><td>&quot;Rechazado&quot;</td><td>2022-06-01</td><td>2022-06-26</td><td>null</td><td>2022-06-26</td></tr><tr><td>&hellip;</td><td>&hellip;</td><td>&hellip;</td><td>&hellip;</td><td>&hellip;</td><td>&hellip;</td><td>&hellip;</td><td>&hellip;</td><td>&hellip;</td></tr><tr><td>&quot;WO000000573832…</td><td>&quot;PUNTO BCP SANT…</td><td>191173</td><td>&quot;Zona Sur&quot;</td><td>&quot;En curso&quot;</td><td>2023-10-29</td><td>null</td><td>null</td><td>null</td></tr><tr><td>&quot;WO000000573833…</td><td>&quot;LA FONTANA&quot;</td><td>193054</td><td>&quot;Zona Sur&quot;</td><td>&quot;En curso&quot;</td><td>2023-10-29</td><td>null</td><td>null</td><td>null</td></tr><tr><td>&quot;WO000000573834…</td><td>&quot;LA FONTANA&quot;</td><td>193054</td><td>&quot;Zona Sur&quot;</td><td>&quot;Rechazado&quot;</td><td>2023-10-29</td><td>null</td><td>null</td><td>null</td></tr><tr><td>&quot;WO000000573834…</td><td>&quot;LA FONTANA&quot;</td><td>193054</td><td>&quot;Zona Sur&quot;</td><td>&quot;Rechazado&quot;</td><td>2023-10-29</td><td>null</td><td>null</td><td>null</td></tr><tr><td>&quot;WO000000573870…</td><td>&quot;IMPERIAL&quot;</td><td>255001</td><td>&quot;Zona Sur&quot;</td><td>&quot;En curso&quot;</td><td>2023-10-29</td><td>null</td><td>null</td><td>null</td></tr><tr><td>&quot;WO000000573870…</td><td>&quot;PISCO&quot;</td><td>470000</td><td>&quot;Zona Sur&quot;</td><td>&quot;En curso&quot;</td><td>2023-10-29</td><td>null</td><td>null</td><td>null</td></tr><tr><td>&quot;WO000000573870…</td><td>&quot;PUENTE PIEDRA&quot;</td><td>191035</td><td>&quot;Zona Centro&quot;</td><td>&quot;En curso&quot;</td><td>2023-10-29</td><td>null</td><td>null</td><td>null</td></tr><tr><td>&quot;WO000000573870…</td><td>&quot;MEGA PLAZA&quot;</td><td>191010</td><td>&quot;Zona Centro&quot;</td><td>&quot;En curso&quot;</td><td>2023-10-29</td><td>null</td><td>null</td><td>null</td></tr><tr><td>&quot;WO000000573871…</td><td>&quot;LUREN&quot;</td><td>380004</td><td>&quot;Zona Sur&quot;</td><td>&quot;En curso&quot;</td><td>2023-10-29</td><td>null</td><td>null</td><td>null</td></tr><tr><td>&quot;WO000000573872…</td><td>&quot;PISCO&quot;</td><td>470000</td><td>&quot;Zona Sur&quot;</td><td>&quot;En curso&quot;</td><td>2023-10-29</td><td>null</td><td>null</td><td>null</td></tr><tr><td>&quot;WO000000573872…</td><td>&quot;NACIONES UNIDA…</td><td>191084</td><td>&quot;Zona Centro&quot;</td><td>&quot;En curso&quot;</td><td>2023-10-29</td><td>null</td><td>null</td><td>null</td></tr><tr><td>&quot;WO000000573872…</td><td>&quot;NACIONES UNIDA…</td><td>191084</td><td>&quot;Zona Centro&quot;</td><td>&quot;En curso&quot;</td><td>2023-10-29</td><td>null</td><td>null</td><td>null</td></tr></tbody></table></div>"
      ],
      "text/plain": [
       "shape: (22_215, 9)\n",
       "┌───────────┬───────────┬───────────┬───────────┬───┬───────────┬───────────┬───────────┬──────────┐\n",
       "│ TicketID  ┆ Agencia   ┆ AgenciaID ┆ Service   ┆ … ┆ Fecha     ┆ Fecha     ┆ Fecha     ┆ Fecha    │\n",
       "│ ---       ┆ ---       ┆ ---       ┆ Desk      ┆   ┆ Creacion  ┆ Termino   ┆ Cierre    ┆ Real Fin │\n",
       "│ str       ┆ str       ┆ i64       ┆ ---       ┆   ┆ ---       ┆ ---       ┆ ---       ┆ ---      │\n",
       "│           ┆           ┆           ┆ str       ┆   ┆ date      ┆ date      ┆ date      ┆ date     │\n",
       "╞═══════════╪═══════════╪═══════════╪═══════════╪═══╪═══════════╪═══════════╪═══════════╪══════════╡\n",
       "│ OT0000004 ┆ NAYLAMP   ┆ 191143    ┆ Zona      ┆ … ┆ 2022-12-3 ┆ 2023-01-2 ┆ 2023-01-2 ┆ 2023-01- │\n",
       "│ 849379    ┆           ┆           ┆ Centro    ┆   ┆ 1         ┆ 5         ┆ 8         ┆ 25       │\n",
       "│ OT0000004 ┆ LOS       ┆ 193038    ┆ Zona Sur  ┆ … ┆ 2022-12-3 ┆ 2023-01-0 ┆ 2023-01-0 ┆ 2023-01- │\n",
       "│ 849382    ┆ DAMASCOS  ┆           ┆           ┆   ┆ 1         ┆ 4         ┆ 7         ┆ 04       │\n",
       "│ OT0000004 ┆ LUREN     ┆ 380004    ┆ Zona Sur  ┆ … ┆ 2022-12-3 ┆ 2023-01-0 ┆ 2023-01-0 ┆ 2023-01- │\n",
       "│ 849726    ┆           ┆           ┆           ┆   ┆ 1         ┆ 2         ┆ 5         ┆ 02       │\n",
       "│ OT0000004 ┆ EL PINO   ┆ 191087    ┆ Zona      ┆ … ┆ 2022-12-3 ┆ 2023-01-0 ┆ 2023-01-0 ┆ 2023-01- │\n",
       "│ 849732    ┆           ┆           ┆ Centro    ┆   ┆ 1         ┆ 6         ┆ 9         ┆ 06       │\n",
       "│ SA0000004 ┆ TUSILAGOS ┆ 191108    ┆ Zona      ┆ … ┆ 2022-12-3 ┆ null      ┆ null      ┆ null     │\n",
       "│ 849307    ┆           ┆           ┆ Centro    ┆   ┆ 1         ┆           ┆           ┆          │\n",
       "│ …         ┆ …         ┆ …         ┆ …         ┆ … ┆ …         ┆ …         ┆ …         ┆ …        │\n",
       "│ WO0000005 ┆ MEGA      ┆ 191010    ┆ Zona      ┆ … ┆ 2023-10-2 ┆ null      ┆ null      ┆ null     │\n",
       "│ 738709    ┆ PLAZA     ┆           ┆ Centro    ┆   ┆ 9         ┆           ┆           ┆          │\n",
       "│ WO0000005 ┆ LUREN     ┆ 380004    ┆ Zona Sur  ┆ … ┆ 2023-10-2 ┆ null      ┆ null      ┆ null     │\n",
       "│ 738715    ┆           ┆           ┆           ┆   ┆ 9         ┆           ┆           ┆          │\n",
       "│ WO0000005 ┆ PISCO     ┆ 470000    ┆ Zona Sur  ┆ … ┆ 2023-10-2 ┆ null      ┆ null      ┆ null     │\n",
       "│ 738721    ┆           ┆           ┆           ┆   ┆ 9         ┆           ┆           ┆          │\n",
       "│ WO0000005 ┆ NACIONES  ┆ 191084    ┆ Zona      ┆ … ┆ 2023-10-2 ┆ null      ┆ null      ┆ null     │\n",
       "│ 738726    ┆ UNIDAS    ┆           ┆ Centro    ┆   ┆ 9         ┆           ┆           ┆          │\n",
       "│ WO0000005 ┆ NACIONES  ┆ 191084    ┆ Zona      ┆ … ┆ 2023-10-2 ┆ null      ┆ null      ┆ null     │\n",
       "│ 738729    ┆ UNIDAS    ┆           ┆ Centro    ┆   ┆ 9         ┆           ┆           ┆          │\n",
       "└───────────┴───────────┴───────────┴───────────┴───┴───────────┴───────────┴───────────┴──────────┘"
      ]
     },
     "execution_count": 505,
     "metadata": {},
     "output_type": "execute_result"
    }
   ],
   "source": [
    "#Creando nueva columna para fecha fin real\n",
    "Tickets = Tickets.with_columns(\n",
    "    pl.when(pl.col('Fecha Termino').is_null()).then(pl.col('Fecha Cierre')).otherwise(pl.col('Fecha Termino')).alias('Fecha Real Fin')\n",
    ")\n",
    "Tickets"
   ]
  },
  {
   "cell_type": "code",
   "execution_count": 506,
   "metadata": {},
   "outputs": [],
   "source": [
    "#Creando columna dias cierre\n",
    "Tickets = Tickets.with_columns(\n",
    "    (pl.col('Fecha Real Fin') - pl.col('Fecha Creacion')).dt.total_days().alias('Dias Cierre')\n",
    ")"
   ]
  },
  {
   "cell_type": "code",
   "execution_count": 507,
   "metadata": {},
   "outputs": [
    {
     "data": {
      "text/html": [
       "<div><style>\n",
       ".dataframe > thead > tr,\n",
       ".dataframe > tbody > tr {\n",
       "  text-align: right;\n",
       "  white-space: pre-wrap;\n",
       "}\n",
       "</style>\n",
       "<small>shape: (5, 10)</small><table border=\"1\" class=\"dataframe\"><thead><tr><th>TicketID</th><th>Agencia</th><th>AgenciaID</th><th>Service Desk</th><th>Estado</th><th>Fecha Creacion</th><th>Fecha Termino</th><th>Fecha Cierre</th><th>Fecha Real Fin</th><th>Dias Cierre</th></tr><tr><td>str</td><td>str</td><td>i64</td><td>str</td><td>str</td><td>date</td><td>date</td><td>date</td><td>date</td><td>i64</td></tr></thead><tbody><tr><td>&quot;OT000000484937…</td><td>&quot;NAYLAMP&quot;</td><td>191143</td><td>&quot;Zona Centro&quot;</td><td>&quot;Cerrado&quot;</td><td>2022-12-31</td><td>2023-01-25</td><td>2023-01-28</td><td>2023-01-25</td><td>25</td></tr><tr><td>&quot;OT000000484938…</td><td>&quot;LOS DAMASCOS&quot;</td><td>193038</td><td>&quot;Zona Sur&quot;</td><td>&quot;Cerrado&quot;</td><td>2022-12-31</td><td>2023-01-04</td><td>2023-01-07</td><td>2023-01-04</td><td>4</td></tr><tr><td>&quot;OT000000484972…</td><td>&quot;LUREN&quot;</td><td>380004</td><td>&quot;Zona Sur&quot;</td><td>&quot;Cerrado&quot;</td><td>2022-12-31</td><td>2023-01-02</td><td>2023-01-05</td><td>2023-01-02</td><td>2</td></tr><tr><td>&quot;OT000000484973…</td><td>&quot;EL PINO&quot;</td><td>191087</td><td>&quot;Zona Centro&quot;</td><td>&quot;Cerrado&quot;</td><td>2022-12-31</td><td>2023-01-06</td><td>2023-01-09</td><td>2023-01-06</td><td>6</td></tr><tr><td>&quot;SA000000484930…</td><td>&quot;TUSILAGOS&quot;</td><td>191108</td><td>&quot;Zona Centro&quot;</td><td>&quot;Rechazado&quot;</td><td>2022-12-31</td><td>null</td><td>null</td><td>null</td><td>null</td></tr></tbody></table></div>"
      ],
      "text/plain": [
       "shape: (5, 10)\n",
       "┌───────────┬───────────┬───────────┬───────────┬───┬───────────┬───────────┬───────────┬──────────┐\n",
       "│ TicketID  ┆ Agencia   ┆ AgenciaID ┆ Service   ┆ … ┆ Fecha     ┆ Fecha     ┆ Fecha     ┆ Dias     │\n",
       "│ ---       ┆ ---       ┆ ---       ┆ Desk      ┆   ┆ Termino   ┆ Cierre    ┆ Real Fin  ┆ Cierre   │\n",
       "│ str       ┆ str       ┆ i64       ┆ ---       ┆   ┆ ---       ┆ ---       ┆ ---       ┆ ---      │\n",
       "│           ┆           ┆           ┆ str       ┆   ┆ date      ┆ date      ┆ date      ┆ i64      │\n",
       "╞═══════════╪═══════════╪═══════════╪═══════════╪═══╪═══════════╪═══════════╪═══════════╪══════════╡\n",
       "│ OT0000004 ┆ NAYLAMP   ┆ 191143    ┆ Zona      ┆ … ┆ 2023-01-2 ┆ 2023-01-2 ┆ 2023-01-2 ┆ 25       │\n",
       "│ 849379    ┆           ┆           ┆ Centro    ┆   ┆ 5         ┆ 8         ┆ 5         ┆          │\n",
       "│ OT0000004 ┆ LOS       ┆ 193038    ┆ Zona Sur  ┆ … ┆ 2023-01-0 ┆ 2023-01-0 ┆ 2023-01-0 ┆ 4        │\n",
       "│ 849382    ┆ DAMASCOS  ┆           ┆           ┆   ┆ 4         ┆ 7         ┆ 4         ┆          │\n",
       "│ OT0000004 ┆ LUREN     ┆ 380004    ┆ Zona Sur  ┆ … ┆ 2023-01-0 ┆ 2023-01-0 ┆ 2023-01-0 ┆ 2        │\n",
       "│ 849726    ┆           ┆           ┆           ┆   ┆ 2         ┆ 5         ┆ 2         ┆          │\n",
       "│ OT0000004 ┆ EL PINO   ┆ 191087    ┆ Zona      ┆ … ┆ 2023-01-0 ┆ 2023-01-0 ┆ 2023-01-0 ┆ 6        │\n",
       "│ 849732    ┆           ┆           ┆ Centro    ┆   ┆ 6         ┆ 9         ┆ 6         ┆          │\n",
       "│ SA0000004 ┆ TUSILAGOS ┆ 191108    ┆ Zona      ┆ … ┆ null      ┆ null      ┆ null      ┆ null     │\n",
       "│ 849307    ┆           ┆           ┆ Centro    ┆   ┆           ┆           ┆           ┆          │\n",
       "└───────────┴───────────┴───────────┴───────────┴───┴───────────┴───────────┴───────────┴──────────┘"
      ]
     },
     "execution_count": 507,
     "metadata": {},
     "output_type": "execute_result"
    }
   ],
   "source": [
    "Tickets.head(5)"
   ]
  },
  {
   "cell_type": "code",
   "execution_count": 508,
   "metadata": {},
   "outputs": [],
   "source": [
    "#Generando nueva columna por condiciones de dias\n",
    "Tickets = Tickets.with_columns(\n",
    "    pl.when(pl.col('Dias Cierre').is_null()).then(None)\n",
    "    .when(pl.col('Dias Cierre') < 3).then(pl.lit('0 a 3 dias'))\n",
    "    .when(pl.col('Dias Cierre') < 7).then(pl.lit('3 a 7 dias'))\n",
    "    .when(pl.col('Dias Cierre') < 15).then(pl.lit('7 a 15 dias'))\n",
    "    .otherwise(pl.lit('+ de 15 dias'))\n",
    "    .alias('Grupo dias')\n",
    ")"
   ]
  },
  {
   "cell_type": "code",
   "execution_count": 509,
   "metadata": {},
   "outputs": [
    {
     "data": {
      "text/html": [
       "<div><style>\n",
       ".dataframe > thead > tr,\n",
       ".dataframe > tbody > tr {\n",
       "  text-align: right;\n",
       "  white-space: pre-wrap;\n",
       "}\n",
       "</style>\n",
       "<small>shape: (5, 11)</small><table border=\"1\" class=\"dataframe\"><thead><tr><th>TicketID</th><th>Agencia</th><th>AgenciaID</th><th>Service Desk</th><th>Estado</th><th>Fecha Creacion</th><th>Fecha Termino</th><th>Fecha Cierre</th><th>Fecha Real Fin</th><th>Dias Cierre</th><th>Grupo dias</th></tr><tr><td>str</td><td>str</td><td>i64</td><td>str</td><td>str</td><td>date</td><td>date</td><td>date</td><td>date</td><td>i64</td><td>str</td></tr></thead><tbody><tr><td>&quot;OT000000484937…</td><td>&quot;NAYLAMP&quot;</td><td>191143</td><td>&quot;Zona Centro&quot;</td><td>&quot;Cerrado&quot;</td><td>2022-12-31</td><td>2023-01-25</td><td>2023-01-28</td><td>2023-01-25</td><td>25</td><td>&quot;+ de 15 dias&quot;</td></tr><tr><td>&quot;OT000000484938…</td><td>&quot;LOS DAMASCOS&quot;</td><td>193038</td><td>&quot;Zona Sur&quot;</td><td>&quot;Cerrado&quot;</td><td>2022-12-31</td><td>2023-01-04</td><td>2023-01-07</td><td>2023-01-04</td><td>4</td><td>&quot;3 a 7 dias&quot;</td></tr><tr><td>&quot;OT000000484972…</td><td>&quot;LUREN&quot;</td><td>380004</td><td>&quot;Zona Sur&quot;</td><td>&quot;Cerrado&quot;</td><td>2022-12-31</td><td>2023-01-02</td><td>2023-01-05</td><td>2023-01-02</td><td>2</td><td>&quot;0 a 3 dias&quot;</td></tr><tr><td>&quot;OT000000484973…</td><td>&quot;EL PINO&quot;</td><td>191087</td><td>&quot;Zona Centro&quot;</td><td>&quot;Cerrado&quot;</td><td>2022-12-31</td><td>2023-01-06</td><td>2023-01-09</td><td>2023-01-06</td><td>6</td><td>&quot;3 a 7 dias&quot;</td></tr><tr><td>&quot;SA000000484930…</td><td>&quot;TUSILAGOS&quot;</td><td>191108</td><td>&quot;Zona Centro&quot;</td><td>&quot;Rechazado&quot;</td><td>2022-12-31</td><td>null</td><td>null</td><td>null</td><td>null</td><td>null</td></tr></tbody></table></div>"
      ],
      "text/plain": [
       "shape: (5, 11)\n",
       "┌───────────┬───────────┬───────────┬───────────┬───┬───────────┬───────────┬───────────┬──────────┐\n",
       "│ TicketID  ┆ Agencia   ┆ AgenciaID ┆ Service   ┆ … ┆ Fecha     ┆ Fecha     ┆ Dias      ┆ Grupo    │\n",
       "│ ---       ┆ ---       ┆ ---       ┆ Desk      ┆   ┆ Cierre    ┆ Real Fin  ┆ Cierre    ┆ dias     │\n",
       "│ str       ┆ str       ┆ i64       ┆ ---       ┆   ┆ ---       ┆ ---       ┆ ---       ┆ ---      │\n",
       "│           ┆           ┆           ┆ str       ┆   ┆ date      ┆ date      ┆ i64       ┆ str      │\n",
       "╞═══════════╪═══════════╪═══════════╪═══════════╪═══╪═══════════╪═══════════╪═══════════╪══════════╡\n",
       "│ OT0000004 ┆ NAYLAMP   ┆ 191143    ┆ Zona      ┆ … ┆ 2023-01-2 ┆ 2023-01-2 ┆ 25        ┆ + de 15  │\n",
       "│ 849379    ┆           ┆           ┆ Centro    ┆   ┆ 8         ┆ 5         ┆           ┆ dias     │\n",
       "│ OT0000004 ┆ LOS       ┆ 193038    ┆ Zona Sur  ┆ … ┆ 2023-01-0 ┆ 2023-01-0 ┆ 4         ┆ 3 a 7    │\n",
       "│ 849382    ┆ DAMASCOS  ┆           ┆           ┆   ┆ 7         ┆ 4         ┆           ┆ dias     │\n",
       "│ OT0000004 ┆ LUREN     ┆ 380004    ┆ Zona Sur  ┆ … ┆ 2023-01-0 ┆ 2023-01-0 ┆ 2         ┆ 0 a 3    │\n",
       "│ 849726    ┆           ┆           ┆           ┆   ┆ 5         ┆ 2         ┆           ┆ dias     │\n",
       "│ OT0000004 ┆ EL PINO   ┆ 191087    ┆ Zona      ┆ … ┆ 2023-01-0 ┆ 2023-01-0 ┆ 6         ┆ 3 a 7    │\n",
       "│ 849732    ┆           ┆           ┆ Centro    ┆   ┆ 9         ┆ 6         ┆           ┆ dias     │\n",
       "│ SA0000004 ┆ TUSILAGOS ┆ 191108    ┆ Zona      ┆ … ┆ null      ┆ null      ┆ null      ┆ null     │\n",
       "│ 849307    ┆           ┆           ┆ Centro    ┆   ┆           ┆           ┆           ┆          │\n",
       "└───────────┴───────────┴───────────┴───────────┴───┴───────────┴───────────┴───────────┴──────────┘"
      ]
     },
     "execution_count": 509,
     "metadata": {},
     "output_type": "execute_result"
    }
   ],
   "source": [
    "Tickets.head(5)"
   ]
  },
  {
   "cell_type": "markdown",
   "metadata": {},
   "source": [
    "BASE ATENCIONES"
   ]
  },
  {
   "cell_type": "code",
   "execution_count": 510,
   "metadata": {},
   "outputs": [],
   "source": [
    "#importando libreria\n",
    "from pathlib import Path\n",
    "import os"
   ]
  },
  {
   "cell_type": "code",
   "execution_count": 511,
   "metadata": {},
   "outputs": [
    {
     "data": {
      "text/plain": [
       "WindowsPath('Atenciones')"
      ]
     },
     "execution_count": 511,
     "metadata": {},
     "output_type": "execute_result"
    }
   ],
   "source": [
    "ruta = Path(\"./Atenciones/\")\n",
    "ruta"
   ]
  },
  {
   "cell_type": "code",
   "execution_count": 512,
   "metadata": {},
   "outputs": [
    {
     "data": {
      "text/plain": [
       "[]"
      ]
     },
     "execution_count": 512,
     "metadata": {},
     "output_type": "execute_result"
    }
   ],
   "source": [
    "archivosExcel = list(ruta.glob('*.xlsx'))\n",
    "archivosExcel"
   ]
  },
  {
   "cell_type": "code",
   "execution_count": 513,
   "metadata": {},
   "outputs": [],
   "source": [
    "for archivo in archivosExcel:\n",
    "    print(archivo)\n",
    "    #print(str(archivo).split(\"\\\\\")[1])"
   ]
  },
  {
   "cell_type": "code",
   "execution_count": 514,
   "metadata": {},
   "outputs": [
    {
     "name": "stdout",
     "output_type": "stream",
     "text": [
      "Error al leer el archivo C:\\ETL\\Atenciones\\Atenciones Centro.xlsx: could not parse `\"2249,08\"` as dtype `f64` at column 'Costo Atencion' (column number 16)\n",
      "\n",
      "The current offset in the file is 363642 bytes.\n",
      "\n",
      "You might want to try:\n",
      "- increasing `infer_schema_length` (e.g. `infer_schema_length=10000`),\n",
      "- specifying correct dtype with the `dtypes` argument\n",
      "- setting `ignore_errors` to `True`,\n",
      "- adding `\"2249,08\"` to the `null_values` list.\n",
      "\n",
      "Original error: ```remaining bytes non-empty```\n",
      "Error al leer el archivo C:\\ETL\\Atenciones\\Atenciones Norte.xlsx: could not parse `SIN COSTO` as dtype `f64` at column 'Precio Venta con IGV (con IGV)' (column number 11)\n",
      "\n",
      "The current offset in the file is 202474 bytes.\n",
      "\n",
      "You might want to try:\n",
      "- increasing `infer_schema_length` (e.g. `infer_schema_length=10000`),\n",
      "- specifying correct dtype with the `dtypes` argument\n",
      "- setting `ignore_errors` to `True`,\n",
      "- adding `SIN COSTO` to the `null_values` list.\n",
      "\n",
      "Original error: ```remaining bytes non-empty```\n"
     ]
    }
   ],
   "source": [
    "import polars as pl\n",
    "import os\n",
    "\n",
    "\n",
    "carpeta = \"C:\\ETL\\Atenciones\"\n",
    "\n",
    "\n",
    "dataframes = []\n",
    "\n",
    "\n",
    "archivos_excel = [archivo for archivo in os.listdir(carpeta) if archivo.endswith('.xlsx')]\n",
    "\n",
    "\n",
    "for archivo in archivos_excel:\n",
    "   \n",
    "    ruta_archivo = os.path.join(carpeta, archivo)\n",
    "    \n",
    "\n",
    "    try:\n",
    "        df = pl.read_excel(ruta_archivo)\n",
    "   \n",
    "        dataframes.append(df)\n",
    "    except Exception as e:\n",
    "        print(f\"Error al leer el archivo {ruta_archivo}: {e}\")\n",
    "\n",
    "\n",
    "Atenciones = pl.concat(dataframes, how='vertical')"
   ]
  },
  {
   "cell_type": "code",
   "execution_count": 515,
   "metadata": {},
   "outputs": [
    {
     "data": {
      "text/html": [
       "<div><style>\n",
       ".dataframe > thead > tr,\n",
       ".dataframe > tbody > tr {\n",
       "  text-align: right;\n",
       "  white-space: pre-wrap;\n",
       "}\n",
       "</style>\n",
       "<small>shape: (4_425, 19)</small><table border=\"1\" class=\"dataframe\"><thead><tr><th>Numero Ticket</th><th>Semana de Visita</th><th>Fecha programada</th><th>Fecha Creacion</th><th>Fecha Cierre</th><th>Estado</th><th>Agencia</th><th>Descripción del servicio</th><th>Tipo de Ticket</th><th>Fecha Aprobacion de Cotizacion</th><th>Precio Venta con IGV (con IGV)</th><th>Monto Registrado en Planilla</th><th>Fecha de Registro en Planilla</th><th>Número de SOLPED</th><th>Proveedor</th><th>Costo Atencion</th><th>Unidades</th><th>Número de OS / OC</th><th>Codigo de Conformidad</th></tr><tr><td>str</td><td>str</td><td>str</td><td>str</td><td>str</td><td>str</td><td>str</td><td>str</td><td>str</td><td>str</td><td>str</td><td>str</td><td>str</td><td>str</td><td>str</td><td>str</td><td>str</td><td>str</td><td>str</td></tr></thead><tbody><tr><td>&quot;WO000000414936…</td><td>null</td><td>null</td><td>&quot;10/06/2022&quot;</td><td>null</td><td>&quot;Rechazado&quot;</td><td>null</td><td>null</td><td>&quot;Rechazado&quot;</td><td>null</td><td>null</td><td>null</td><td>null</td><td>null</td><td>null</td><td>null</td><td>null</td><td>null</td><td>null</td></tr><tr><td>&quot;WO000000484938…</td><td>null</td><td>null</td><td>&quot;31/12/2022&quot;</td><td>null</td><td>&quot;Cerrado&quot;</td><td>null</td><td>null</td><td>&quot;Variable&quot;</td><td>null</td><td>&quot;SIN COSTO&quot;</td><td>null</td><td>null</td><td>null</td><td>&quot;CIME COMERCIAL…</td><td>null</td><td>null</td><td>null</td><td>null</td></tr><tr><td>&quot;WO000000484938…</td><td>null</td><td>null</td><td>&quot;31/12/2022&quot;</td><td>null</td><td>&quot;Cerrado&quot;</td><td>null</td><td>null</td><td>&quot;Variable&quot;</td><td>null</td><td>&quot;SIN COSTO&quot;</td><td>null</td><td>null</td><td>null</td><td>&quot;CIME COMERCIAL…</td><td>null</td><td>null</td><td>null</td><td>null</td></tr><tr><td>&quot;WO000000484938…</td><td>null</td><td>null</td><td>&quot;02/01/2023&quot;</td><td>&quot;04/01/2023&quot;</td><td>&quot;Terminado&quot;</td><td>&quot;LOS DAMASCOS -…</td><td>&quot;Usuario Solici…</td><td>&quot;Variable&quot;</td><td>null</td><td>&quot;SIN COSTO&quot;</td><td>null</td><td>null</td><td>null</td><td>&quot;CIME COMERCIAL…</td><td>null</td><td>null</td><td>null</td><td>null</td></tr><tr><td>&quot;WO000000484938…</td><td>null</td><td>null</td><td>&quot;02/01/2023&quot;</td><td>&quot;04/01/2023&quot;</td><td>&quot;Terminado&quot;</td><td>&quot;LOS DAMASCOS -…</td><td>&quot;Usuario Solici…</td><td>&quot;Variable&quot;</td><td>null</td><td>&quot;SIN COSTO&quot;</td><td>null</td><td>null</td><td>null</td><td>&quot;CIME COMERCIAL…</td><td>null</td><td>null</td><td>null</td><td>null</td></tr><tr><td>&quot;WO000000484972…</td><td>null</td><td>null</td><td>&quot;31/12/2022&quot;</td><td>null</td><td>&quot;Cerrado&quot;</td><td>null</td><td>null</td><td>&quot;Variable&quot;</td><td>null</td><td>&quot;206.5&quot;</td><td>null</td><td>null</td><td>null</td><td>&quot;JGM IMPORT&quot;</td><td>null</td><td>null</td><td>null</td><td>null</td></tr><tr><td>&quot;WO000000484972…</td><td>null</td><td>null</td><td>&quot;02/01/2023&quot;</td><td>&quot;02/01/2023&quot;</td><td>&quot;Terminado&quot;</td><td>&quot;LUREN - 380004…</td><td>&quot;Usuario Solici…</td><td>&quot;Variable&quot;</td><td>null</td><td>&quot;206.5&quot;</td><td>null</td><td>null</td><td>null</td><td>&quot;JGM IMPORT&quot;</td><td>null</td><td>null</td><td>null</td><td>null</td></tr><tr><td>&quot;WO000000484972…</td><td>null</td><td>null</td><td>&quot;31/12/2022&quot;</td><td>null</td><td>&quot;Cerrado&quot;</td><td>null</td><td>null</td><td>&quot;Variable&quot;</td><td>null</td><td>&quot;206.5&quot;</td><td>null</td><td>null</td><td>null</td><td>&quot;JGM IMPORT&quot;</td><td>null</td><td>null</td><td>null</td><td>null</td></tr><tr><td>&quot;WO000000484972…</td><td>null</td><td>null</td><td>&quot;02/01/2023&quot;</td><td>&quot;02/01/2023&quot;</td><td>&quot;Terminado&quot;</td><td>&quot;LUREN - 380004…</td><td>&quot;Usuario Solici…</td><td>&quot;Variable&quot;</td><td>null</td><td>&quot;206.5&quot;</td><td>null</td><td>null</td><td>null</td><td>&quot;JGM IMPORT&quot;</td><td>null</td><td>null</td><td>null</td><td>null</td></tr><tr><td>&quot;WO000000484972…</td><td>null</td><td>null</td><td>&quot;31/12/2022&quot;</td><td>null</td><td>&quot;Cerrado&quot;</td><td>null</td><td>null</td><td>&quot;Variable&quot;</td><td>null</td><td>&quot;0&quot;</td><td>null</td><td>null</td><td>null</td><td>&quot;JGM IMPORT&quot;</td><td>null</td><td>null</td><td>null</td><td>null</td></tr><tr><td>&quot;WO000000484972…</td><td>null</td><td>null</td><td>&quot;02/01/2023&quot;</td><td>&quot;02/01/2023&quot;</td><td>&quot;Terminado&quot;</td><td>&quot;LUREN - 380004…</td><td>&quot;Usuario Solici…</td><td>&quot;Variable&quot;</td><td>null</td><td>null</td><td>null</td><td>null</td><td>null</td><td>&quot;JGM IMPORT&quot;</td><td>null</td><td>null</td><td>null</td><td>null</td></tr><tr><td>&quot;WO000000484972…</td><td>null</td><td>null</td><td>&quot;31/12/2022&quot;</td><td>null</td><td>&quot;Cerrado&quot;</td><td>null</td><td>null</td><td>&quot;Variable&quot;</td><td>null</td><td>&quot;0&quot;</td><td>null</td><td>null</td><td>null</td><td>&quot;JGM IMPORT&quot;</td><td>null</td><td>null</td><td>null</td><td>null</td></tr><tr><td>&hellip;</td><td>&hellip;</td><td>&hellip;</td><td>&hellip;</td><td>&hellip;</td><td>&hellip;</td><td>&hellip;</td><td>&hellip;</td><td>&hellip;</td><td>&hellip;</td><td>&hellip;</td><td>&hellip;</td><td>&hellip;</td><td>&hellip;</td><td>&hellip;</td><td>&hellip;</td><td>&hellip;</td><td>&hellip;</td><td>&hellip;</td></tr><tr><td>&quot;WO000000573716…</td><td>&quot;S1&quot;</td><td>&quot;05/10/2023&quot;</td><td>&quot;29/10/2023&quot;</td><td>null</td><td>&quot;En curso&quot;</td><td>&quot;VENEZUELA - 19…</td><td>&quot;Usuario Solici…</td><td>&quot;Flat&quot;</td><td>null</td><td>null</td><td>null</td><td>null</td><td>null</td><td>&quot;ACCENTURE&quot;</td><td>null</td><td>null</td><td>null</td><td>null</td></tr><tr><td>&quot;WO000000573750…</td><td>null</td><td>null</td><td>&quot;29/10/2023&quot;</td><td>null</td><td>&quot;En curso&quot;</td><td>&quot;ICA - 380000&quot;</td><td>&quot;Usuario Solici…</td><td>&quot;Variable&quot;</td><td>null</td><td>null</td><td>null</td><td>null</td><td>null</td><td>&quot;COORPORACION R…</td><td>null</td><td>null</td><td>null</td><td>null</td></tr><tr><td>&quot;WO000000573756…</td><td>null</td><td>null</td><td>&quot;29/10/2023&quot;</td><td>null</td><td>&quot;En curso&quot;</td><td>&quot;CHACLACAYO - 1…</td><td>&quot;Usuario Solici…</td><td>&quot;Variable&quot;</td><td>null</td><td>null</td><td>null</td><td>null</td><td>null</td><td>null</td><td>null</td><td>null</td><td>null</td><td>null</td></tr><tr><td>&quot;WO000000573758…</td><td>null</td><td>null</td><td>&quot;29/10/2023&quot;</td><td>&quot;29/10/2023&quot;</td><td>&quot;Rechazado&quot;</td><td>&quot;RAUL FERRERO&quot;</td><td>&quot;Usuario Solici…</td><td>&quot;Rechazado&quot;</td><td>null</td><td>null</td><td>null</td><td>null</td><td>null</td><td>&quot;OTROS&quot;</td><td>null</td><td>null</td><td>null</td><td>null</td></tr><tr><td>&quot;WO000000573832…</td><td>null</td><td>null</td><td>&quot;29/10/2023&quot;</td><td>null</td><td>&quot;En curso&quot;</td><td>&quot;PUNTO BCP SANT…</td><td>&quot;Usuario Solici…</td><td>&quot;Variable&quot;</td><td>null</td><td>null</td><td>null</td><td>null</td><td>null</td><td>&quot;TRAZAIDEA&quot;</td><td>null</td><td>null</td><td>null</td><td>null</td></tr><tr><td>&quot;WO000000573833…</td><td>null</td><td>null</td><td>&quot;29/10/2023&quot;</td><td>null</td><td>&quot;En curso&quot;</td><td>&quot;LA FONTANA&quot;</td><td>&quot;Usuario Solici…</td><td>&quot;Variable&quot;</td><td>null</td><td>null</td><td>null</td><td>null</td><td>null</td><td>&quot;PROSEGUR&quot;</td><td>null</td><td>null</td><td>null</td><td>null</td></tr><tr><td>&quot;WO000000573834…</td><td>null</td><td>null</td><td>&quot;29/10/2023&quot;</td><td>&quot;29/10/2023&quot;</td><td>&quot;Rechazado&quot;</td><td>&quot;LA FONTANA&quot;</td><td>&quot;Usuario Solici…</td><td>&quot;Rechazado&quot;</td><td>null</td><td>null</td><td>null</td><td>null</td><td>null</td><td>&quot;OTROS&quot;</td><td>null</td><td>null</td><td>null</td><td>null</td></tr><tr><td>&quot;WO000000573834…</td><td>null</td><td>null</td><td>&quot;29/10/2023&quot;</td><td>&quot;29/10/2023&quot;</td><td>&quot;Rechazado&quot;</td><td>&quot;LA FONTANA&quot;</td><td>&quot;Usuario Solici…</td><td>&quot;Rechazado&quot;</td><td>null</td><td>null</td><td>null</td><td>null</td><td>null</td><td>&quot;OTROS&quot;</td><td>null</td><td>null</td><td>null</td><td>null</td></tr><tr><td>&quot;WO000000573870…</td><td>null</td><td>null</td><td>&quot;29/10/2023&quot;</td><td>null</td><td>&quot;En curso&quot;</td><td>&quot;IMPERIAL - 255…</td><td>&quot;Usuario Solici…</td><td>&quot;Variable&quot;</td><td>null</td><td>null</td><td>null</td><td>null</td><td>null</td><td>&quot;PROSEGUR&quot;</td><td>null</td><td>null</td><td>null</td><td>null</td></tr><tr><td>&quot;WO000000573870…</td><td>null</td><td>null</td><td>&quot;29/10/2023&quot;</td><td>null</td><td>&quot;En curso&quot;</td><td>&quot;PISCO - 470000…</td><td>&quot;Usuario Solici…</td><td>&quot;Variable&quot;</td><td>null</td><td>null</td><td>null</td><td>null</td><td>null</td><td>&quot;COORPORACION R…</td><td>null</td><td>null</td><td>null</td><td>null</td></tr><tr><td>&quot;WO000000573871…</td><td>null</td><td>null</td><td>&quot;29/10/2023&quot;</td><td>null</td><td>&quot;En curso&quot;</td><td>&quot;LUREN - 380004…</td><td>&quot;Usuario Solici…</td><td>&quot;Variable&quot;</td><td>null</td><td>null</td><td>null</td><td>null</td><td>null</td><td>&quot;PROSEGUR&quot;</td><td>null</td><td>null</td><td>null</td><td>null</td></tr><tr><td>&quot;WO000000573872…</td><td>null</td><td>null</td><td>&quot;29/10/2023&quot;</td><td>null</td><td>&quot;En curso&quot;</td><td>&quot;PISCO - 470000…</td><td>&quot;Usuario Solici…</td><td>&quot;Flat&quot;</td><td>null</td><td>null</td><td>null</td><td>null</td><td>null</td><td>&quot;ACCENTURE&quot;</td><td>null</td><td>null</td><td>null</td><td>null</td></tr></tbody></table></div>"
      ],
      "text/plain": [
       "shape: (4_425, 19)\n",
       "┌───────────┬───────────┬───────────┬───────────┬───┬───────────┬──────────┬───────────┬───────────┐\n",
       "│ Numero    ┆ Semana de ┆ Fecha pro ┆ Fecha     ┆ … ┆ Costo     ┆ Unidades ┆ Número de ┆ Codigo de │\n",
       "│ Ticket    ┆ Visita    ┆ gramada   ┆ Creacion  ┆   ┆ Atencion  ┆ ---      ┆ OS / OC   ┆ Conformid │\n",
       "│ ---       ┆ ---       ┆ ---       ┆ ---       ┆   ┆ ---       ┆ str      ┆ ---       ┆ ad        │\n",
       "│ str       ┆ str       ┆ str       ┆ str       ┆   ┆ str       ┆          ┆ str       ┆ ---       │\n",
       "│           ┆           ┆           ┆           ┆   ┆           ┆          ┆           ┆ str       │\n",
       "╞═══════════╪═══════════╪═══════════╪═══════════╪═══╪═══════════╪══════════╪═══════════╪═══════════╡\n",
       "│ WO0000004 ┆ null      ┆ null      ┆ 10/06/202 ┆ … ┆ null      ┆ null     ┆ null      ┆ null      │\n",
       "│ 149361    ┆           ┆           ┆ 2         ┆   ┆           ┆          ┆           ┆           │\n",
       "│ WO0000004 ┆ null      ┆ null      ┆ 31/12/202 ┆ … ┆ null      ┆ null     ┆ null      ┆ null      │\n",
       "│ 849382    ┆           ┆           ┆ 2         ┆   ┆           ┆          ┆           ┆           │\n",
       "│ WO0000004 ┆ null      ┆ null      ┆ 31/12/202 ┆ … ┆ null      ┆ null     ┆ null      ┆ null      │\n",
       "│ 849382    ┆           ┆           ┆ 2         ┆   ┆           ┆          ┆           ┆           │\n",
       "│ WO0000004 ┆ null      ┆ null      ┆ 02/01/202 ┆ … ┆ null      ┆ null     ┆ null      ┆ null      │\n",
       "│ 849382    ┆           ┆           ┆ 3         ┆   ┆           ┆          ┆           ┆           │\n",
       "│ WO0000004 ┆ null      ┆ null      ┆ 02/01/202 ┆ … ┆ null      ┆ null     ┆ null      ┆ null      │\n",
       "│ 849382    ┆           ┆           ┆ 3         ┆   ┆           ┆          ┆           ┆           │\n",
       "│ …         ┆ …         ┆ …         ┆ …         ┆ … ┆ …         ┆ …        ┆ …         ┆ …         │\n",
       "│ WO0000005 ┆ null      ┆ null      ┆ 29/10/202 ┆ … ┆ null      ┆ null     ┆ null      ┆ null      │\n",
       "│ 738348    ┆           ┆           ┆ 3         ┆   ┆           ┆          ┆           ┆           │\n",
       "│ WO0000005 ┆ null      ┆ null      ┆ 29/10/202 ┆ … ┆ null      ┆ null     ┆ null      ┆ null      │\n",
       "│ 738704    ┆           ┆           ┆ 3         ┆   ┆           ┆          ┆           ┆           │\n",
       "│ WO0000005 ┆ null      ┆ null      ┆ 29/10/202 ┆ … ┆ null      ┆ null     ┆ null      ┆ null      │\n",
       "│ 738705    ┆           ┆           ┆ 3         ┆   ┆           ┆          ┆           ┆           │\n",
       "│ WO0000005 ┆ null      ┆ null      ┆ 29/10/202 ┆ … ┆ null      ┆ null     ┆ null      ┆ null      │\n",
       "│ 738715    ┆           ┆           ┆ 3         ┆   ┆           ┆          ┆           ┆           │\n",
       "│ WO0000005 ┆ null      ┆ null      ┆ 29/10/202 ┆ … ┆ null      ┆ null     ┆ null      ┆ null      │\n",
       "│ 738721    ┆           ┆           ┆ 3         ┆   ┆           ┆          ┆           ┆           │\n",
       "└───────────┴───────────┴───────────┴───────────┴───┴───────────┴──────────┴───────────┴───────────┘"
      ]
     },
     "execution_count": 515,
     "metadata": {},
     "output_type": "execute_result"
    }
   ],
   "source": [
    "Atenciones"
   ]
  },
  {
   "cell_type": "code",
   "execution_count": 516,
   "metadata": {},
   "outputs": [
    {
     "data": {
      "text/html": [
       "<div><style>\n",
       ".dataframe > thead > tr,\n",
       ".dataframe > tbody > tr {\n",
       "  text-align: right;\n",
       "  white-space: pre-wrap;\n",
       "}\n",
       "</style>\n",
       "<small>shape: (4_425, 4)</small><table border=\"1\" class=\"dataframe\"><thead><tr><th>Numero Ticket</th><th>Tipo de Ticket</th><th>Proveedor</th><th>Costo Atencion</th></tr><tr><td>str</td><td>str</td><td>str</td><td>str</td></tr></thead><tbody><tr><td>&quot;WO000000414936…</td><td>&quot;Rechazado&quot;</td><td>null</td><td>null</td></tr><tr><td>&quot;WO000000484938…</td><td>&quot;Variable&quot;</td><td>&quot;CIME COMERCIAL…</td><td>null</td></tr><tr><td>&quot;WO000000484938…</td><td>&quot;Variable&quot;</td><td>&quot;CIME COMERCIAL…</td><td>null</td></tr><tr><td>&quot;WO000000484938…</td><td>&quot;Variable&quot;</td><td>&quot;CIME COMERCIAL…</td><td>null</td></tr><tr><td>&quot;WO000000484938…</td><td>&quot;Variable&quot;</td><td>&quot;CIME COMERCIAL…</td><td>null</td></tr><tr><td>&quot;WO000000484972…</td><td>&quot;Variable&quot;</td><td>&quot;JGM IMPORT&quot;</td><td>null</td></tr><tr><td>&quot;WO000000484972…</td><td>&quot;Variable&quot;</td><td>&quot;JGM IMPORT&quot;</td><td>null</td></tr><tr><td>&quot;WO000000484972…</td><td>&quot;Variable&quot;</td><td>&quot;JGM IMPORT&quot;</td><td>null</td></tr><tr><td>&quot;WO000000484972…</td><td>&quot;Variable&quot;</td><td>&quot;JGM IMPORT&quot;</td><td>null</td></tr><tr><td>&quot;WO000000484972…</td><td>&quot;Variable&quot;</td><td>&quot;JGM IMPORT&quot;</td><td>null</td></tr><tr><td>&quot;WO000000484972…</td><td>&quot;Variable&quot;</td><td>&quot;JGM IMPORT&quot;</td><td>null</td></tr><tr><td>&quot;WO000000484972…</td><td>&quot;Variable&quot;</td><td>&quot;JGM IMPORT&quot;</td><td>null</td></tr><tr><td>&hellip;</td><td>&hellip;</td><td>&hellip;</td><td>&hellip;</td></tr><tr><td>&quot;WO000000573716…</td><td>&quot;Flat&quot;</td><td>&quot;ACCENTURE&quot;</td><td>null</td></tr><tr><td>&quot;WO000000573750…</td><td>&quot;Variable&quot;</td><td>&quot;COORPORACION R…</td><td>null</td></tr><tr><td>&quot;WO000000573756…</td><td>&quot;Variable&quot;</td><td>null</td><td>null</td></tr><tr><td>&quot;WO000000573758…</td><td>&quot;Rechazado&quot;</td><td>&quot;OTROS&quot;</td><td>null</td></tr><tr><td>&quot;WO000000573832…</td><td>&quot;Variable&quot;</td><td>&quot;TRAZAIDEA&quot;</td><td>null</td></tr><tr><td>&quot;WO000000573833…</td><td>&quot;Variable&quot;</td><td>&quot;PROSEGUR&quot;</td><td>null</td></tr><tr><td>&quot;WO000000573834…</td><td>&quot;Rechazado&quot;</td><td>&quot;OTROS&quot;</td><td>null</td></tr><tr><td>&quot;WO000000573834…</td><td>&quot;Rechazado&quot;</td><td>&quot;OTROS&quot;</td><td>null</td></tr><tr><td>&quot;WO000000573870…</td><td>&quot;Variable&quot;</td><td>&quot;PROSEGUR&quot;</td><td>null</td></tr><tr><td>&quot;WO000000573870…</td><td>&quot;Variable&quot;</td><td>&quot;COORPORACION R…</td><td>null</td></tr><tr><td>&quot;WO000000573871…</td><td>&quot;Variable&quot;</td><td>&quot;PROSEGUR&quot;</td><td>null</td></tr><tr><td>&quot;WO000000573872…</td><td>&quot;Flat&quot;</td><td>&quot;ACCENTURE&quot;</td><td>null</td></tr></tbody></table></div>"
      ],
      "text/plain": [
       "shape: (4_425, 4)\n",
       "┌─────────────────┬────────────────┬──────────────────┬────────────────┐\n",
       "│ Numero Ticket   ┆ Tipo de Ticket ┆ Proveedor        ┆ Costo Atencion │\n",
       "│ ---             ┆ ---            ┆ ---              ┆ ---            │\n",
       "│ str             ┆ str            ┆ str              ┆ str            │\n",
       "╞═════════════════╪════════════════╪══════════════════╪════════════════╡\n",
       "│ WO0000004149361 ┆ Rechazado      ┆ null             ┆ null           │\n",
       "│ WO0000004849382 ┆ Variable       ┆ CIME COMERCIAL   ┆ null           │\n",
       "│ WO0000004849382 ┆ Variable       ┆ CIME COMERCIAL   ┆ null           │\n",
       "│ WO0000004849382 ┆ Variable       ┆ CIME COMERCIAL   ┆ null           │\n",
       "│ WO0000004849382 ┆ Variable       ┆ CIME COMERCIAL   ┆ null           │\n",
       "│ …               ┆ …              ┆ …                ┆ …              │\n",
       "│ WO0000005738348 ┆ Rechazado      ┆ OTROS            ┆ null           │\n",
       "│ WO0000005738704 ┆ Variable       ┆ PROSEGUR         ┆ null           │\n",
       "│ WO0000005738705 ┆ Variable       ┆ COORPORACION R&M ┆ null           │\n",
       "│ WO0000005738715 ┆ Variable       ┆ PROSEGUR         ┆ null           │\n",
       "│ WO0000005738721 ┆ Flat           ┆ ACCENTURE        ┆ null           │\n",
       "└─────────────────┴────────────────┴──────────────────┴────────────────┘"
      ]
     },
     "execution_count": 516,
     "metadata": {},
     "output_type": "execute_result"
    }
   ],
   "source": [
    "#Seleccionando columnas específicas\n",
    "Atenciones = Atenciones.select([\n",
    "    pl.col(\"Numero Ticket\"),\n",
    "    pl.col(\"Tipo de Ticket\"),\n",
    "    pl.col(\"Proveedor\"),\n",
    "    pl.col(\"Costo Atencion\")\n",
    "])\n",
    "Atenciones\n"
   ]
  },
  {
   "cell_type": "code",
   "execution_count": 517,
   "metadata": {},
   "outputs": [
    {
     "name": "stdout",
     "output_type": "stream",
     "text": [
      "<class 'polars.dataframe.frame.DataFrame'>\n"
     ]
    }
   ],
   "source": [
    "print(type(Atenciones))"
   ]
  },
  {
   "cell_type": "code",
   "execution_count": 518,
   "metadata": {},
   "outputs": [],
   "source": [
    "#Renombrando columna\n",
    "Atenciones = Atenciones.rename({\"Numero Ticket\": \"TicketID\"})"
   ]
  },
  {
   "cell_type": "code",
   "execution_count": 519,
   "metadata": {},
   "outputs": [
    {
     "data": {
      "text/html": [
       "<div><style>\n",
       ".dataframe > thead > tr,\n",
       ".dataframe > tbody > tr {\n",
       "  text-align: right;\n",
       "  white-space: pre-wrap;\n",
       "}\n",
       "</style>\n",
       "<small>shape: (4_425, 4)</small><table border=\"1\" class=\"dataframe\"><thead><tr><th>TicketID</th><th>Tipo de Ticket</th><th>Proveedor</th><th>Costo Atencion</th></tr><tr><td>str</td><td>str</td><td>str</td><td>str</td></tr></thead><tbody><tr><td>&quot;WO000000414936…</td><td>&quot;Rechazado&quot;</td><td>null</td><td>null</td></tr><tr><td>&quot;WO000000484938…</td><td>&quot;Variable&quot;</td><td>&quot;CIME COMERCIAL…</td><td>null</td></tr><tr><td>&quot;WO000000484938…</td><td>&quot;Variable&quot;</td><td>&quot;CIME COMERCIAL…</td><td>null</td></tr><tr><td>&quot;WO000000484938…</td><td>&quot;Variable&quot;</td><td>&quot;CIME COMERCIAL…</td><td>null</td></tr><tr><td>&quot;WO000000484938…</td><td>&quot;Variable&quot;</td><td>&quot;CIME COMERCIAL…</td><td>null</td></tr><tr><td>&quot;WO000000484972…</td><td>&quot;Variable&quot;</td><td>&quot;JGM IMPORT&quot;</td><td>null</td></tr><tr><td>&quot;WO000000484972…</td><td>&quot;Variable&quot;</td><td>&quot;JGM IMPORT&quot;</td><td>null</td></tr><tr><td>&quot;WO000000484972…</td><td>&quot;Variable&quot;</td><td>&quot;JGM IMPORT&quot;</td><td>null</td></tr><tr><td>&quot;WO000000484972…</td><td>&quot;Variable&quot;</td><td>&quot;JGM IMPORT&quot;</td><td>null</td></tr><tr><td>&quot;WO000000484972…</td><td>&quot;Variable&quot;</td><td>&quot;JGM IMPORT&quot;</td><td>null</td></tr><tr><td>&quot;WO000000484972…</td><td>&quot;Variable&quot;</td><td>&quot;JGM IMPORT&quot;</td><td>null</td></tr><tr><td>&quot;WO000000484972…</td><td>&quot;Variable&quot;</td><td>&quot;JGM IMPORT&quot;</td><td>null</td></tr><tr><td>&hellip;</td><td>&hellip;</td><td>&hellip;</td><td>&hellip;</td></tr><tr><td>&quot;WO000000573716…</td><td>&quot;Flat&quot;</td><td>&quot;ACCENTURE&quot;</td><td>null</td></tr><tr><td>&quot;WO000000573750…</td><td>&quot;Variable&quot;</td><td>&quot;COORPORACION R…</td><td>null</td></tr><tr><td>&quot;WO000000573756…</td><td>&quot;Variable&quot;</td><td>null</td><td>null</td></tr><tr><td>&quot;WO000000573758…</td><td>&quot;Rechazado&quot;</td><td>&quot;OTROS&quot;</td><td>null</td></tr><tr><td>&quot;WO000000573832…</td><td>&quot;Variable&quot;</td><td>&quot;TRAZAIDEA&quot;</td><td>null</td></tr><tr><td>&quot;WO000000573833…</td><td>&quot;Variable&quot;</td><td>&quot;PROSEGUR&quot;</td><td>null</td></tr><tr><td>&quot;WO000000573834…</td><td>&quot;Rechazado&quot;</td><td>&quot;OTROS&quot;</td><td>null</td></tr><tr><td>&quot;WO000000573834…</td><td>&quot;Rechazado&quot;</td><td>&quot;OTROS&quot;</td><td>null</td></tr><tr><td>&quot;WO000000573870…</td><td>&quot;Variable&quot;</td><td>&quot;PROSEGUR&quot;</td><td>null</td></tr><tr><td>&quot;WO000000573870…</td><td>&quot;Variable&quot;</td><td>&quot;COORPORACION R…</td><td>null</td></tr><tr><td>&quot;WO000000573871…</td><td>&quot;Variable&quot;</td><td>&quot;PROSEGUR&quot;</td><td>null</td></tr><tr><td>&quot;WO000000573872…</td><td>&quot;Flat&quot;</td><td>&quot;ACCENTURE&quot;</td><td>null</td></tr></tbody></table></div>"
      ],
      "text/plain": [
       "shape: (4_425, 4)\n",
       "┌─────────────────┬────────────────┬──────────────────┬────────────────┐\n",
       "│ TicketID        ┆ Tipo de Ticket ┆ Proveedor        ┆ Costo Atencion │\n",
       "│ ---             ┆ ---            ┆ ---              ┆ ---            │\n",
       "│ str             ┆ str            ┆ str              ┆ str            │\n",
       "╞═════════════════╪════════════════╪══════════════════╪════════════════╡\n",
       "│ WO0000004149361 ┆ Rechazado      ┆ null             ┆ null           │\n",
       "│ WO0000004849382 ┆ Variable       ┆ CIME COMERCIAL   ┆ null           │\n",
       "│ WO0000004849382 ┆ Variable       ┆ CIME COMERCIAL   ┆ null           │\n",
       "│ WO0000004849382 ┆ Variable       ┆ CIME COMERCIAL   ┆ null           │\n",
       "│ WO0000004849382 ┆ Variable       ┆ CIME COMERCIAL   ┆ null           │\n",
       "│ …               ┆ …              ┆ …                ┆ …              │\n",
       "│ WO0000005738348 ┆ Rechazado      ┆ OTROS            ┆ null           │\n",
       "│ WO0000005738704 ┆ Variable       ┆ PROSEGUR         ┆ null           │\n",
       "│ WO0000005738705 ┆ Variable       ┆ COORPORACION R&M ┆ null           │\n",
       "│ WO0000005738715 ┆ Variable       ┆ PROSEGUR         ┆ null           │\n",
       "│ WO0000005738721 ┆ Flat           ┆ ACCENTURE        ┆ null           │\n",
       "└─────────────────┴────────────────┴──────────────────┴────────────────┘"
      ]
     },
     "execution_count": 519,
     "metadata": {},
     "output_type": "execute_result"
    }
   ],
   "source": [
    "Atenciones"
   ]
  },
  {
   "cell_type": "code",
   "execution_count": 521,
   "metadata": {},
   "outputs": [],
   "source": [
    "# Convertir los valores de la columna \"Costo Atencion\" a mayúsculas\n",
    "Atenciones = Atenciones.with_column(\n",
    "    pl.col(\"Costo Atencion\").map(lambda x: x.upper()).alias(\"Costo Atencion\")\n",
    ")\n",
    "\n",
    "# Reemplazar comas por puntos en la columna \"Costo Atencion\"\n",
    "Atenciones = Atenciones.with_column(\n",
    "    pl.col(\"Costo Atencion\").map(lambda x: x.replace(\",\", \".\")).alias(\"Costo Atencion\")\n",
    ")\n",
    "\n",
    "# Reemplazar \"SIN COSTO\" y \"COSTO CERO\" por \"0\" en la columna \"Costo Atencion\"\n",
    "Atenciones = Atenciones.with_column(\n",
    "    \"Costo Atencion\",\n",
    "    pl.when(pl.col(\"Costo Atencion\") == \"SIN COSTO\", \"0\")\n",
    "    .when(pl.col(\"Costo Atencion\") == \"COSTO CERO\", \"0\")\n",
    "    .otherwise(pl.col(\"Costo Atencion\"))\n",
    ")\n",
    "\n",
    "# Convertir la columna \"Costo Atencion\" al tipo de dato decimal\n",
    "Atenciones = Atenciones.with_column(\n",
    "    \"Costo Atencion\",\n",
    "    pl.col(\"Costo Atencion\").cast(pl.Float).alias(\"Costo Atencion\")\n",
    ")\n",
    "\n"
   ]
  },
  {
   "cell_type": "code",
   "execution_count": 522,
   "metadata": {},
   "outputs": [],
   "source": [
    "#Realizando los joins\n",
    "Consolidado = Tickets.join(\n",
    "    Atenciones,\n",
    "    on=\"TicketID\",\n",
    "    how=\"inner\"\n",
    ")"
   ]
  },
  {
   "cell_type": "code",
   "execution_count": 523,
   "metadata": {},
   "outputs": [
    {
     "data": {
      "text/html": [
       "<div><style>\n",
       ".dataframe > thead > tr,\n",
       ".dataframe > tbody > tr {\n",
       "  text-align: right;\n",
       "  white-space: pre-wrap;\n",
       "}\n",
       "</style>\n",
       "<small>shape: (5, 14)</small><table border=\"1\" class=\"dataframe\"><thead><tr><th>TicketID</th><th>Agencia</th><th>AgenciaID</th><th>Service Desk</th><th>Estado</th><th>Fecha Creacion</th><th>Fecha Termino</th><th>Fecha Cierre</th><th>Fecha Real Fin</th><th>Dias Cierre</th><th>Grupo dias</th><th>Tipo de Ticket</th><th>Proveedor</th><th>Costo Atencion</th></tr><tr><td>str</td><td>str</td><td>i64</td><td>str</td><td>str</td><td>date</td><td>date</td><td>date</td><td>date</td><td>i64</td><td>str</td><td>str</td><td>str</td><td>str</td></tr></thead><tbody><tr><td>&quot;WO000000414936…</td><td>&quot;EDUARDO DE HAB…</td><td>191023</td><td>&quot;Zona Sur&quot;</td><td>&quot;Rechazado&quot;</td><td>2022-06-10</td><td>2022-06-10</td><td>null</td><td>2022-06-10</td><td>0</td><td>&quot;0 a 3 dias&quot;</td><td>&quot;Rechazado&quot;</td><td>null</td><td>null</td></tr><tr><td>&quot;WO000000484938…</td><td>&quot;LOS DAMASCOS&quot;</td><td>193038</td><td>&quot;Zona Sur&quot;</td><td>&quot;Cerrado&quot;</td><td>2022-12-31</td><td>2023-01-04</td><td>2023-01-07</td><td>2023-01-04</td><td>4</td><td>&quot;3 a 7 dias&quot;</td><td>&quot;Variable&quot;</td><td>&quot;CIME COMERCIAL…</td><td>null</td></tr><tr><td>&quot;WO000000484938…</td><td>&quot;LOS DAMASCOS&quot;</td><td>193038</td><td>&quot;Zona Sur&quot;</td><td>&quot;Cerrado&quot;</td><td>2022-12-31</td><td>2023-01-04</td><td>2023-01-07</td><td>2023-01-04</td><td>4</td><td>&quot;3 a 7 dias&quot;</td><td>&quot;Variable&quot;</td><td>&quot;CIME COMERCIAL…</td><td>null</td></tr><tr><td>&quot;WO000000484938…</td><td>&quot;LOS DAMASCOS&quot;</td><td>193038</td><td>&quot;Zona Sur&quot;</td><td>&quot;Cerrado&quot;</td><td>2022-12-31</td><td>2023-01-04</td><td>2023-01-07</td><td>2023-01-04</td><td>4</td><td>&quot;3 a 7 dias&quot;</td><td>&quot;Variable&quot;</td><td>&quot;CIME COMERCIAL…</td><td>null</td></tr><tr><td>&quot;WO000000484938…</td><td>&quot;LOS DAMASCOS&quot;</td><td>193038</td><td>&quot;Zona Sur&quot;</td><td>&quot;Cerrado&quot;</td><td>2022-12-31</td><td>2023-01-04</td><td>2023-01-07</td><td>2023-01-04</td><td>4</td><td>&quot;3 a 7 dias&quot;</td><td>&quot;Variable&quot;</td><td>&quot;CIME COMERCIAL…</td><td>null</td></tr></tbody></table></div>"
      ],
      "text/plain": [
       "shape: (5, 14)\n",
       "┌────────────┬────────────┬────────────┬───────────┬───┬───────┬───────────┬───────────┬───────────┐\n",
       "│ TicketID   ┆ Agencia    ┆ AgenciaID  ┆ Service   ┆ … ┆ Grupo ┆ Tipo de   ┆ Proveedor ┆ Costo     │\n",
       "│ ---        ┆ ---        ┆ ---        ┆ Desk      ┆   ┆ dias  ┆ Ticket    ┆ ---       ┆ Atencion  │\n",
       "│ str        ┆ str        ┆ i64        ┆ ---       ┆   ┆ ---   ┆ ---       ┆ str       ┆ ---       │\n",
       "│            ┆            ┆            ┆ str       ┆   ┆ str   ┆ str       ┆           ┆ str       │\n",
       "╞════════════╪════════════╪════════════╪═══════════╪═══╪═══════╪═══════════╪═══════════╪═══════════╡\n",
       "│ WO00000041 ┆ EDUARDO DE ┆ 191023     ┆ Zona Sur  ┆ … ┆ 0 a 3 ┆ Rechazado ┆ null      ┆ null      │\n",
       "│ 49361      ┆ HABICH     ┆            ┆           ┆   ┆ dias  ┆           ┆           ┆           │\n",
       "│ WO00000048 ┆ LOS        ┆ 193038     ┆ Zona Sur  ┆ … ┆ 3 a 7 ┆ Variable  ┆ CIME      ┆ null      │\n",
       "│ 49382      ┆ DAMASCOS   ┆            ┆           ┆   ┆ dias  ┆           ┆ COMERCIAL ┆           │\n",
       "│ WO00000048 ┆ LOS        ┆ 193038     ┆ Zona Sur  ┆ … ┆ 3 a 7 ┆ Variable  ┆ CIME      ┆ null      │\n",
       "│ 49382      ┆ DAMASCOS   ┆            ┆           ┆   ┆ dias  ┆           ┆ COMERCIAL ┆           │\n",
       "│ WO00000048 ┆ LOS        ┆ 193038     ┆ Zona Sur  ┆ … ┆ 3 a 7 ┆ Variable  ┆ CIME      ┆ null      │\n",
       "│ 49382      ┆ DAMASCOS   ┆            ┆           ┆   ┆ dias  ┆           ┆ COMERCIAL ┆           │\n",
       "│ WO00000048 ┆ LOS        ┆ 193038     ┆ Zona Sur  ┆ … ┆ 3 a 7 ┆ Variable  ┆ CIME      ┆ null      │\n",
       "│ 49382      ┆ DAMASCOS   ┆            ┆           ┆   ┆ dias  ┆           ┆ COMERCIAL ┆           │\n",
       "└────────────┴────────────┴────────────┴───────────┴───┴───────┴───────────┴───────────┴───────────┘"
      ]
     },
     "execution_count": 523,
     "metadata": {},
     "output_type": "execute_result"
    }
   ],
   "source": [
    "Consolidado.head(5)"
   ]
  },
  {
   "cell_type": "code",
   "execution_count": 525,
   "metadata": {},
   "outputs": [],
   "source": [
    "# Seleccionar solo las columnas especificadas\n",
    "Filtrado = Consolidado.select([\n",
    "    pl.col(\"TicketID\"),\n",
    "    pl.col(\"AgenciaID\"),\n",
    "    pl.col(\"Agencia\"),\n",
    "    pl.col(\"Service Desk\"),\n",
    "    pl.col(\"Estado\"),\n",
    "    pl.col(\"Fecha Creacion\"),\n",
    "    pl.col(\"Fecha Real Fin\"),\n",
    "    pl.col(\"Grupo Dias\"),\n",
    "    pl.col(\"Tipo de Ticket\"),\n",
    "    pl.col(\"Costo Atencion\")\n",
    "])\n"
   ]
  },
  {
   "cell_type": "code",
   "execution_count": null,
   "metadata": {},
   "outputs": [],
   "source": [
    "#Renombrando columnas\n",
    "renamed_columns_df = Filtrado \\\n",
    "    .with_column_rename(\"Fecha Real Fin\", \"Fecha Cierre\") \\\n",
    "    .with_column_rename(\"Tipo de Ticket\", \"Tipo Ticket\") \\\n",
    "    .with_column_rename(\"Costo Atencion\", \"Costo\")"
   ]
  }
 ],
 "metadata": {
  "kernelspec": {
   "display_name": "Gestion_Atenciones",
   "language": "python",
   "name": "python3"
  },
  "language_info": {
   "codemirror_mode": {
    "name": "ipython",
    "version": 3
   },
   "file_extension": ".py",
   "mimetype": "text/x-python",
   "name": "python",
   "nbconvert_exporter": "python",
   "pygments_lexer": "ipython3",
   "version": "3.11.6"
  }
 },
 "nbformat": 4,
 "nbformat_minor": 2
}
